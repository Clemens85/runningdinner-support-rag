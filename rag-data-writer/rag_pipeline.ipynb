{
 "cells": [
  {
   "cell_type": "code",
   "execution_count": 1,
   "id": "cd01e327-d56b-40ca-a322-75c4489eb702",
   "metadata": {},
   "outputs": [],
   "source": [
    "%load_ext autoreload\n",
    "%autoreload 2"
   ]
  },
  {
   "cell_type": "code",
   "execution_count": 2,
   "id": "be157065-794b-4dea-adc0-eedbe28a6e3f",
   "metadata": {},
   "outputs": [],
   "source": [
    "from local_db.LocalChromaDbRepository import LocalChromaDbRepository\n",
    "from pinecone_db.PineconeDbRepository import PineconeDbRepository\n",
    "from RagWriter import RagWriter\n",
    "from DocumentProcessor import load_support_documents, prepare_docs, SUPPORT_EMAILS_DIR\n",
    "from Importer import Importer\n",
    "from Visualizer import display_document_content, visualize_vector_db, plot_document_character_stats"
   ]
  },
  {
   "cell_type": "code",
   "execution_count": 3,
   "id": "c26143e3-6c56-42d8-9ff9-2733921cb2f8",
   "metadata": {},
   "outputs": [],
   "source": [
    "docs = load_support_documents(directory_path=SUPPORT_EMAILS_DIR)\n",
    "prepare_docs(docs)"
   ]
  },
  {
   "cell_type": "code",
   "execution_count": 5,
   "id": "7154d444-ddc9-42e2-b4bb-f8fe5de79cce",
   "metadata": {},
   "outputs": [
    {
     "data": {
      "text/plain": [
       "155"
      ]
     },
     "execution_count": 5,
     "metadata": {},
     "output_type": "execute_result"
    }
   ],
   "source": [
    "len(docs)\n",
    "#display_document_content(docs[150])"
   ]
  },
  {
   "cell_type": "code",
   "execution_count": null,
   "id": "148c0618-a538-492e-a1d4-8ff0ebb8db29",
   "metadata": {},
   "outputs": [],
   "source": [
    "from local_db.LocalChromaDbRepository import LocalChromaDbRepository, COLLECTION_NAME\n",
    "repository = LocalChromaDbRepository()\n",
    "rag_writer = RagWriter(repository=repository)\n",
    "query = \"Unterstützt das Tool auch kürzeste Wegen bei den Routen? Wir veranstalten ein Event in Berlin und da ist es wichtig, dass man nicht vom einem Rand zum anderen Rand muss. Lg Jan\"\n",
    "docs = rag_writer.find_similar_docs(query=query)\n",
    "print(docs)"
   ]
  },
  {
   "cell_type": "code",
   "execution_count": 4,
   "id": "26dc06ed-3b07-433f-8ac1-dfc7fd1afb05",
   "metadata": {},
   "outputs": [
    {
     "name": "stdout",
     "output_type": "stream",
     "text": [
      "Resetting lock file...\n",
      "Checking if document 2023-04-26_14-49_38.md is already in Vector DB...\n",
      "Checking if document 2024-06-18_12-00_32.md is already in Vector DB...\n",
      "Checking if document 2019-04-24_20-05_22.md is already in Vector DB...\n",
      "Checking if document 2024-04-11_18-45_10.md is already in Vector DB...\n",
      "Checking if document 2024-12-03_22-12_14.md is already in Vector DB...\n",
      "Checking if document 2023-10-11_12-10_25.md is already in Vector DB...\n",
      "Checking if document 2024-11-22_17-14_17.md is already in Vector DB...\n",
      "Checking if document 2021-10-22_11-47_4.md is already in Vector DB...\n",
      "Checking if document 2022-04-25_12-36_39.md is already in Vector DB...\n",
      "Checking if document 2025-06-17_21-35_2.md is already in Vector DB...\n",
      "Checking if document 2024-05-08_07-00_6.md is already in Vector DB...\n",
      "Checking if document 2024-09-08_09-30_30.md is already in Vector DB...\n",
      "Checking if document 2022-12-08_15-41_14.md is already in Vector DB...\n",
      "Checking if document 2023-03-23_08-06_2.md is already in Vector DB...\n",
      "Checking if document 2023-01-14_13-38_9.md is already in Vector DB...\n",
      "Checking if document 2024-10-02_14-30_28.md is already in Vector DB...\n",
      "Checking if document 2024-11-13_14-29_24.md is already in Vector DB...\n",
      "Checking if document 2022-01-24_13-47_51.md is already in Vector DB...\n",
      "Checking if document 2025-05-31_14-13_4.md is already in Vector DB...\n",
      "Checking if document 2020-10-07_20-13_10.md is already in Vector DB...\n",
      "Checking if document 2022-05-13_19-18_32.md is already in Vector DB...\n",
      "Checking if document 2023-03-21_09-51_4.md is already in Vector DB...\n",
      "Checking if document 2024-01-15_23-08_15.md is already in Vector DB...\n",
      "Checking if document 2024-12-11_14-05_12.md is already in Vector DB...\n",
      "Checking if document 2024-01-27_10-15_14.md is already in Vector DB...\n",
      "Checking if document 2022-05-29_11-33_30.md is already in Vector DB...\n",
      "Checking if document 2025-02-12_12-07_10.md is already in Vector DB...\n",
      "Checking if document 2022-12-08_16-11_13.md is already in Vector DB...\n",
      "Checking if document 2023-04-18_21-11_41.md is already in Vector DB...\n",
      "Checking if document 2022-05-28_08-18_29.md is already in Vector DB...\n",
      "Checking if document 2024-11-13_14-29_23.md is already in Vector DB...\n",
      "Checking if document 2022-02-22_10-47_49.md is already in Vector DB...\n",
      "Checking if document 2022-09-04_15-17_17.md is already in Vector DB...\n",
      "Checking if document 2023-01-17_09-38_7.md is already in Vector DB...\n",
      "Checking if document 2023-03-24_11-06_1.md is already in Vector DB...\n",
      "Checking if document 2023-07-16_21-38_26.md is already in Vector DB...\n",
      "Checking if document 2023-03-07_12-36_3.md is already in Vector DB...\n",
      "Checking if document 2022-11-12_23-11_33.md is already in Vector DB...\n",
      "Checking if document 2023-12-16_12-53_17.md is already in Vector DB...\n",
      "Checking if document 2021-11-25_12-32_53.md is already in Vector DB...\n",
      "Checking if document 2025-07-07_11-05_0.md is already in Vector DB...\n",
      "Checking if document 2022-03-16_18-03_47.md is already in Vector DB...\n",
      "Checking if document 2021-11-05_17-47_1.md is already in Vector DB...\n",
      "Checking if document 2019-11-27_23-24_16.md is already in Vector DB...\n",
      "Checking if document 2022-05-02_19-03_35.md is already in Vector DB...\n",
      "Checking if document 2024-12-03_12-12_13.md is already in Vector DB...\n",
      "Checking if document 2023-07-11_13-23_31.md is already in Vector DB...\n",
      "Checking if document 2023-02-06_11-38_6.md is already in Vector DB...\n",
      "Checking if document 2024-12-01_10-34_15.md is already in Vector DB...\n",
      "Checking if document 2023-09-21_07-38_27.md is already in Vector DB...\n",
      "Checking if document 2024-04-11_18-30_9.md is already in Vector DB...\n",
      "Checking if document 2024-11-12_09-59_22.md is already in Vector DB...\n",
      "Checking if document 2025-07-07_11-05_1.md is already in Vector DB...\n",
      "Checking if document 2024-12-01_08-34_16.md is already in Vector DB...\n",
      "Checking if document 2022-04-28_17-51_36.md is already in Vector DB...\n",
      "Checking if document 2025-06-17_21-35_1.md is already in Vector DB...\n",
      "Checking if document 2025-04-28_08-50_8.md is already in Vector DB...\n",
      "Checking if document 2021-10-15_12-39_6.md is already in Vector DB...\n",
      "Checking if document 2023-09-06_15-53_28.md is already in Vector DB...\n",
      "Checking if document 2023-11-14_21-42_21.md is already in Vector DB...\n",
      "Checking if document 2021-10-22_17-47_46.md is already in Vector DB...\n",
      "Checking if document 2023-07-11_17-23_30.md is already in Vector DB...\n",
      "Checking if document 2024-05-30_18-30_3.md is already in Vector DB...\n",
      "Checking if document 2021-12-17_09-47_52.md is already in Vector DB...\n",
      "Checking if document 2022-04-05_21-31_44.md is already in Vector DB...\n",
      "Checking if document 2022-10-16_10-32_15.md is already in Vector DB...\n",
      "Checking if document 2025-06-07_07-44_2.md is already in Vector DB...\n",
      "Checking if document 2024-03-10_09-59_12.md is already in Vector DB...\n",
      "Checking if document 2024-10-26_11-00_25.md is already in Vector DB...\n",
      "Checking if document 2022-05-27_08-18_31.md is already in Vector DB...\n",
      "Checking if document 2025-05-15_06-04_4.md is already in Vector DB...\n",
      "Checking if document 2025-03-13_21-41_9.md is already in Vector DB...\n",
      "Checking if document 2025-05-15_06-04_5.md is already in Vector DB...\n",
      "Checking if document 2021-09-09_20-09_7.md is already in Vector DB...\n",
      "Checking if document 2024-05-24_09-00_5.md is already in Vector DB...\n",
      "Checking if document 2021-10-26_20-32_3.md is already in Vector DB...\n",
      "Checking if document 2022-10-12_10-17_22.md is already in Vector DB...\n",
      "Checking if document 2019-10-31_06-34_18.md is already in Vector DB...\n",
      "Checking if document 2024-05-05_13-30_7.md is already in Vector DB...\n",
      "Checking if document 2020-09-30_18-00_11.md is already in Vector DB...\n",
      "Checking if document 2024-03-13_19-49_11.md is already in Vector DB...\n",
      "Checking if document 2024-11-14_20-03_19.md is already in Vector DB...\n",
      "Checking if document 2022-10-22_19-16_20.md is already in Vector DB...\n",
      "Checking if document 2022-10-21_14-01_21.md is already in Vector DB...\n",
      "Checking if document 2022-09-26_09-32_24.md is already in Vector DB...\n",
      "Checking if document 2020-02-04_20-09_14.md is already in Vector DB...\n",
      "Checking if document 2022-08-18_12-32_26.md is already in Vector DB...\n",
      "Checking if document 2023-06-11_22-23_34.md is already in Vector DB...\n",
      "Checking if document 2022-11-10_08-26_18.md is already in Vector DB...\n",
      "Checking if document 2021-11-04_23-47_2.md is already in Vector DB...\n",
      "Checking if document 2020-09-10_12-00_13.md is already in Vector DB...\n",
      "Checking if document 2023-03-06_17-21_5.md is already in Vector DB...\n",
      "Checking if document 2022-04-06_10-31_45.md is already in Vector DB...\n",
      "Checking if document 2020-09-21_07-15_12.md is already in Vector DB...\n",
      "Checking if document 2024-11-11_17-30_21.md is already in Vector DB...\n",
      "Checking if document 2024-11-11_21-29_20.md is already in Vector DB...\n",
      "Checking if document 2022-11-18_14-26_16.md is already in Vector DB...\n",
      "Checking if document 2024-01-15_18-44_16.md is already in Vector DB...\n",
      "Checking if document 2025-06-07_07-44_3.md is already in Vector DB...\n",
      "Checking if document 2022-05-11_16-33_28.md is already in Vector DB...\n",
      "Checking if document 2024-06-20_17-30_31.md is already in Vector DB...\n",
      "Checking if document 2023-11-14_13-42_22.md is already in Vector DB...\n",
      "Checking if document 2023-11-19_14-40_20.md is already in Vector DB...\n",
      "Checking if document 2023-04-25_10-19_39.md is already in Vector DB...\n",
      "Checking if document 2023-06-04_19-38_35.md is already in Vector DB...\n",
      "Checking if document 2020-09-26_13-45_9.md is already in Vector DB...\n",
      "Checking if document 2023-07-11_13-23_32.md is already in Vector DB...\n",
      "Checking if document 2022-04-11_16-31_42.md is already in Vector DB...\n",
      "Checking if document 2024-10-24_20-00_26.md is already in Vector DB...\n",
      "Checking if document 2024-09-19_05-14_29.md is already in Vector DB...\n",
      "Checking if document 2022-04-11_15-31_43.md is already in Vector DB...\n",
      "Checking if document 2022-04-13_09-16_41.md is already in Vector DB...\n",
      "Checking if document 2021-10-19_12-47_5.md is already in Vector DB...\n",
      "Checking if document 2023-01-05_15-56_11.md is already in Vector DB...\n",
      "Checking if document 2022-08-20_13-02_25.md is already in Vector DB...\n",
      "Checking if document 2023-08-03_09-55_29.md is already in Vector DB...\n",
      "Checking if document 2022-04-26_11-36_38.md is already in Vector DB...\n",
      "Checking if document 2019-12-12_09-54_15.md is already in Vector DB...\n",
      "Checking if document 2025-04-26_20-50_7.md is already in Vector DB...\n",
      "Checking if document 2022-02-15_14-02_50.md is already in Vector DB...\n",
      "Checking if document 2024-04-13_09-59_8.md is already in Vector DB...\n",
      "Checking if document 2019-04-16_18-20_23.md is already in Vector DB...\n",
      "Checking if document 2024-03-04_20-40_13.md is already in Vector DB...\n",
      "Checking if document 2022-06-08_17-27_27.md is already in Vector DB...\n",
      "Checking if document 2025-01-13_10-20_11.md is already in Vector DB...\n",
      "Checking if document 2021-06-06_15-54_8.md is already in Vector DB...\n",
      "Checking if document 2023-05-18_07-38_37.md is already in Vector DB...\n",
      "Checking if document 2022-04-11_14-16_40.md is already in Vector DB...\n",
      "Checking if document 2019-07-01_10-24_20.md is already in Vector DB...\n",
      "Checking if document 2024-06-04_12-45_1.md is already in Vector DB...\n",
      "Checking if document 2024-05-27_09-37_4.md is already in Vector DB...\n",
      "Checking if document 2022-05-13_13-33_33.md is already in Vector DB...\n",
      "Checking if document 2023-10-06_14-09_24.md is already in Vector DB...\n",
      "Checking if document 2025-05-10_15-04_6.md is already in Vector DB...\n",
      "Checking if document 2024-05-30_15-30_2.md is already in Vector DB...\n",
      "Checking if document 2022-10-04_15-47_23.md is already in Vector DB...\n",
      "Checking if document 2023-04-25_16-04_40.md is already in Vector DB...\n",
      "Checking if document 2023-01-11_17-11_10.md is already in Vector DB...\n",
      "Checking if document 2023-10-19_18-38_23.md is already in Vector DB...\n",
      "Checking if document 2019-11-04_21-54_17.md is already in Vector DB...\n",
      "Checking if document 2023-05-08_14-23_36.md is already in Vector DB...\n",
      "Checking if document 2022-04-30_08-33_37.md is already in Vector DB...\n",
      "Checking if document 2022-03-13_16-17_48.md is already in Vector DB...\n",
      "Checking if document 2022-05-10_15-18_34.md is already in Vector DB...\n",
      "Checking if document 2023-11-14_22-12_18.md is already in Vector DB...\n",
      "Checking if document 2019-04-20_12-35_21.md is already in Vector DB...\n",
      "Checking if document 2023-01-14_13-53_8.md is already in Vector DB...\n",
      "Checking if document 2023-12-04_13-54_18.md is already in Vector DB...\n",
      "Checking if document 2023-11-29_13-24_19.md is already in Vector DB...\n",
      "Checking if document 2019-10-01_21-14_19.md is already in Vector DB...\n",
      "Checking if document 2025-05-31_14-13_3.md is already in Vector DB...\n",
      "Checking if document 2022-11-03_17-38_19.md is already in Vector DB...\n",
      "Checking if document 2022-12-20_12-56_12.md is already in Vector DB...\n",
      "Checking if document 2024-10-13_11-28_27.md is already in Vector DB...\n",
      "Checking if document 2021-11-21_21-47_54.md is already in Vector DB...\n",
      "Importing 155 new documents to Vector DB...\n"
     ]
    },
    {
     "name": "stderr",
     "output_type": "stream",
     "text": [
      "Embedding and Storing documents to VectorDB:   1%|▋                                                                                                            | 1/155 [00:00<01:45,  1.45it/s]"
     ]
    },
    {
     "name": "stdout",
     "output_type": "stream",
     "text": [
      "Stored document with ID: doc-0 and metadata: {'source': '../gmail-reader/gmail_threads/2023-04-26_14-49_38.md', 'type': 'support-email', 'date': '2023-04-26 14:49:38', 'support_type': 'admin'}\n"
     ]
    },
    {
     "name": "stderr",
     "output_type": "stream",
     "text": [
      "Embedding and Storing documents to VectorDB:   1%|█▍                                                                                                           | 2/155 [00:02<03:08,  1.23s/it]"
     ]
    },
    {
     "name": "stdout",
     "output_type": "stream",
     "text": [
      "Stored document with ID: doc-1 and metadata: {'source': '../gmail-reader/gmail_threads/2024-06-18_12-00_32.md', 'type': 'support-email', 'date': '2024-06-18 12:00:32', 'support_type': 'admin'}\n"
     ]
    },
    {
     "name": "stderr",
     "output_type": "stream",
     "text": [
      "Embedding and Storing documents to VectorDB:   2%|██                                                                                                           | 3/155 [00:02<02:15,  1.12it/s]"
     ]
    },
    {
     "name": "stdout",
     "output_type": "stream",
     "text": [
      "Stored document with ID: doc-2 and metadata: {'source': '../gmail-reader/gmail_threads/2019-04-24_20-05_22.md', 'type': 'support-email', 'date': '2019-04-24 20:05:22', 'support_type': 'wizard'}\n"
     ]
    },
    {
     "name": "stderr",
     "output_type": "stream",
     "text": [
      "Embedding and Storing documents to VectorDB:   3%|██▊                                                                                                          | 4/155 [00:03<02:28,  1.01it/s]"
     ]
    },
    {
     "name": "stdout",
     "output_type": "stream",
     "text": [
      "Stored document with ID: doc-3 and metadata: {'source': '../gmail-reader/gmail_threads/2024-04-11_18-45_10.md', 'type': 'support-email', 'date': '2024-04-11 18:45:10', 'support_type': 'generic_frontend'}\n"
     ]
    },
    {
     "name": "stderr",
     "output_type": "stream",
     "text": [
      "Embedding and Storing documents to VectorDB:   3%|███▌                                                                                                         | 5/155 [00:04<02:31,  1.01s/it]"
     ]
    },
    {
     "name": "stdout",
     "output_type": "stream",
     "text": [
      "Stored document with ID: doc-4 and metadata: {'source': '../gmail-reader/gmail_threads/2024-12-03_22-12_14.md', 'type': 'support-email', 'date': '2024-12-03 22:12:14', 'support_type': 'admin'}\n"
     ]
    },
    {
     "name": "stderr",
     "output_type": "stream",
     "text": [
      "Embedding and Storing documents to VectorDB:   4%|████▏                                                                                                        | 6/155 [00:05<02:03,  1.20it/s]"
     ]
    },
    {
     "name": "stdout",
     "output_type": "stream",
     "text": [
      "Stored document with ID: doc-5 and metadata: {'source': '../gmail-reader/gmail_threads/2023-10-11_12-10_25.md', 'type': 'support-email', 'date': '2023-10-11 12:10:25', 'support_type': 'admin'}\n"
     ]
    },
    {
     "name": "stderr",
     "output_type": "stream",
     "text": [
      "Embedding and Storing documents to VectorDB:   5%|████▉                                                                                                        | 7/155 [00:05<01:44,  1.42it/s]"
     ]
    },
    {
     "name": "stdout",
     "output_type": "stream",
     "text": [
      "Stored document with ID: doc-6 and metadata: {'source': '../gmail-reader/gmail_threads/2024-11-22_17-14_17.md', 'type': 'support-email', 'date': '2024-11-22 17:14:17', 'support_type': 'admin'}\n"
     ]
    },
    {
     "name": "stderr",
     "output_type": "stream",
     "text": [
      "Embedding and Storing documents to VectorDB:   5%|█████▋                                                                                                       | 8/155 [00:06<01:38,  1.49it/s]"
     ]
    },
    {
     "name": "stdout",
     "output_type": "stream",
     "text": [
      "Stored document with ID: doc-7 and metadata: {'source': '../gmail-reader/gmail_threads/2021-10-22_11-47_4.md', 'type': 'support-email', 'date': '2021-10-22_11-47_4', 'support_type': 'admin'}\n"
     ]
    },
    {
     "name": "stderr",
     "output_type": "stream",
     "text": [
      "Embedding and Storing documents to VectorDB:   6%|██████▎                                                                                                      | 9/155 [00:07<01:31,  1.60it/s]"
     ]
    },
    {
     "name": "stdout",
     "output_type": "stream",
     "text": [
      "Stored document with ID: doc-8 and metadata: {'source': '../gmail-reader/gmail_threads/2022-04-25_12-36_39.md', 'type': 'support-email', 'date': '2022-04-25 12:36:39', 'support_type': 'admin'}\n"
     ]
    },
    {
     "name": "stderr",
     "output_type": "stream",
     "text": [
      "Embedding and Storing documents to VectorDB:   6%|██████▉                                                                                                     | 10/155 [00:07<01:39,  1.46it/s]"
     ]
    },
    {
     "name": "stdout",
     "output_type": "stream",
     "text": [
      "Stored document with ID: doc-9 and metadata: {'source': '../gmail-reader/gmail_threads/2025-06-17_21-35_2.md', 'type': 'support-email', 'date': '2025-06-17_21-35_2', 'support_type': 'admin'}\n"
     ]
    },
    {
     "name": "stderr",
     "output_type": "stream",
     "text": [
      "Embedding and Storing documents to VectorDB:   7%|███████▋                                                                                                    | 11/155 [00:08<01:34,  1.53it/s]"
     ]
    },
    {
     "name": "stdout",
     "output_type": "stream",
     "text": [
      "Stored document with ID: doc-10 and metadata: {'source': '../gmail-reader/gmail_threads/2024-05-08_07-00_6.md', 'type': 'support-email', 'date': '2024-05-08_07-00_6', 'support_type': 'admin'}\n"
     ]
    },
    {
     "name": "stderr",
     "output_type": "stream",
     "text": [
      "Embedding and Storing documents to VectorDB:   8%|████████▎                                                                                                   | 12/155 [00:09<01:31,  1.56it/s]"
     ]
    },
    {
     "name": "stdout",
     "output_type": "stream",
     "text": [
      "Stored document with ID: doc-11 and metadata: {'source': '../gmail-reader/gmail_threads/2024-09-08_09-30_30.md', 'type': 'support-email', 'date': '2024-09-08 09:30:30', 'support_type': 'wizard'}\n"
     ]
    },
    {
     "name": "stderr",
     "output_type": "stream",
     "text": [
      "Embedding and Storing documents to VectorDB:   8%|█████████                                                                                                   | 13/155 [00:09<01:39,  1.43it/s]"
     ]
    },
    {
     "name": "stdout",
     "output_type": "stream",
     "text": [
      "Stored document with ID: doc-12 and metadata: {'source': '../gmail-reader/gmail_threads/2022-12-08_15-41_14.md', 'type': 'support-email', 'date': '2022-12-08 15:41:14', 'support_type': 'admin'}\n"
     ]
    },
    {
     "name": "stderr",
     "output_type": "stream",
     "text": [
      "Embedding and Storing documents to VectorDB:   9%|█████████▊                                                                                                  | 14/155 [00:10<01:27,  1.60it/s]"
     ]
    },
    {
     "name": "stdout",
     "output_type": "stream",
     "text": [
      "Stored document with ID: doc-13 and metadata: {'source': '../gmail-reader/gmail_threads/2023-03-23_08-06_2.md', 'type': 'support-email', 'date': '2023-03-23_08-06_2', 'support_type': 'admin'}\n"
     ]
    },
    {
     "name": "stderr",
     "output_type": "stream",
     "text": [
      "Embedding and Storing documents to VectorDB:  10%|██████████▍                                                                                                 | 15/155 [00:10<01:22,  1.71it/s]"
     ]
    },
    {
     "name": "stdout",
     "output_type": "stream",
     "text": [
      "Stored document with ID: doc-14 and metadata: {'source': '../gmail-reader/gmail_threads/2023-01-14_13-38_9.md', 'type': 'support-email', 'date': '2023-01-14_13-38_9', 'support_type': 'admin'}\n"
     ]
    },
    {
     "name": "stderr",
     "output_type": "stream",
     "text": [
      "Embedding and Storing documents to VectorDB:  10%|███████████▏                                                                                                | 16/155 [00:11<01:15,  1.84it/s]"
     ]
    },
    {
     "name": "stdout",
     "output_type": "stream",
     "text": [
      "Stored document with ID: doc-15 and metadata: {'source': '../gmail-reader/gmail_threads/2024-10-02_14-30_28.md', 'type': 'support-email', 'date': '2024-10-02 14:30:28', 'support_type': 'admin'}\n"
     ]
    },
    {
     "name": "stderr",
     "output_type": "stream",
     "text": [
      "Embedding and Storing documents to VectorDB:  11%|███████████▊                                                                                                | 17/155 [00:11<01:16,  1.80it/s]"
     ]
    },
    {
     "name": "stdout",
     "output_type": "stream",
     "text": [
      "Stored document with ID: doc-16 and metadata: {'source': '../gmail-reader/gmail_threads/2024-11-13_14-29_24.md', 'type': 'support-email', 'date': '2024-11-13 14:29:24', 'support_type': 'generic_frontend'}\n"
     ]
    },
    {
     "name": "stderr",
     "output_type": "stream",
     "text": [
      "Embedding and Storing documents to VectorDB:  12%|████████████▌                                                                                               | 18/155 [00:12<01:12,  1.90it/s]"
     ]
    },
    {
     "name": "stdout",
     "output_type": "stream",
     "text": [
      "Stored document with ID: doc-17 and metadata: {'source': '../gmail-reader/gmail_threads/2022-01-24_13-47_51.md', 'type': 'support-email', 'date': '2022-01-24 13:47:51', 'support_type': 'admin'}\n"
     ]
    },
    {
     "name": "stderr",
     "output_type": "stream",
     "text": [
      "Embedding and Storing documents to VectorDB:  12%|█████████████▏                                                                                              | 19/155 [00:12<01:08,  1.97it/s]"
     ]
    },
    {
     "name": "stdout",
     "output_type": "stream",
     "text": [
      "Stored document with ID: doc-18 and metadata: {'source': '../gmail-reader/gmail_threads/2025-05-31_14-13_4.md', 'type': 'support-email', 'date': '2025-05-31_14-13_4', 'support_type': 'admin'}\n"
     ]
    },
    {
     "name": "stderr",
     "output_type": "stream",
     "text": [
      "Embedding and Storing documents to VectorDB:  13%|█████████████▉                                                                                              | 20/155 [00:13<01:12,  1.85it/s]"
     ]
    },
    {
     "name": "stdout",
     "output_type": "stream",
     "text": [
      "Stored document with ID: doc-19 and metadata: {'source': '../gmail-reader/gmail_threads/2020-10-07_20-13_10.md', 'type': 'support-email', 'date': '2020-10-07 20:13:10', 'support_type': 'admin'}\n"
     ]
    },
    {
     "name": "stderr",
     "output_type": "stream",
     "text": [
      "Embedding and Storing documents to VectorDB:  14%|██████████████▋                                                                                             | 21/155 [00:13<01:06,  2.00it/s]"
     ]
    },
    {
     "name": "stdout",
     "output_type": "stream",
     "text": [
      "Stored document with ID: doc-20 and metadata: {'source': '../gmail-reader/gmail_threads/2022-05-13_19-18_32.md', 'type': 'support-email', 'date': '2022-05-13 19:18:32', 'support_type': 'admin'}\n"
     ]
    },
    {
     "name": "stderr",
     "output_type": "stream",
     "text": [
      "Embedding and Storing documents to VectorDB:  14%|███████████████▎                                                                                            | 22/155 [00:14<01:00,  2.19it/s]"
     ]
    },
    {
     "name": "stdout",
     "output_type": "stream",
     "text": [
      "Stored document with ID: doc-21 and metadata: {'source': '../gmail-reader/gmail_threads/2023-03-21_09-51_4.md', 'type': 'support-email', 'date': '2023-03-21_09-51_4', 'support_type': 'admin'}\n"
     ]
    },
    {
     "name": "stderr",
     "output_type": "stream",
     "text": [
      "Embedding and Storing documents to VectorDB:  15%|████████████████                                                                                            | 23/155 [00:14<00:58,  2.26it/s]"
     ]
    },
    {
     "name": "stdout",
     "output_type": "stream",
     "text": [
      "Stored document with ID: doc-22 and metadata: {'source': '../gmail-reader/gmail_threads/2024-01-15_23-08_15.md', 'type': 'support-email', 'date': '2024-01-15 23:08:15', 'support_type': 'generic'}\n"
     ]
    },
    {
     "name": "stderr",
     "output_type": "stream",
     "text": [
      "Embedding and Storing documents to VectorDB:  15%|████████████████▋                                                                                           | 24/155 [00:14<00:54,  2.38it/s]"
     ]
    },
    {
     "name": "stdout",
     "output_type": "stream",
     "text": [
      "Stored document with ID: doc-23 and metadata: {'source': '../gmail-reader/gmail_threads/2024-12-11_14-05_12.md', 'type': 'support-email', 'date': '2024-12-11 14:05:12', 'support_type': 'admin'}\n"
     ]
    },
    {
     "name": "stderr",
     "output_type": "stream",
     "text": [
      "Embedding and Storing documents to VectorDB:  16%|█████████████████▍                                                                                          | 25/155 [00:15<00:58,  2.23it/s]"
     ]
    },
    {
     "name": "stdout",
     "output_type": "stream",
     "text": [
      "Stored document with ID: doc-24 and metadata: {'source': '../gmail-reader/gmail_threads/2024-01-27_10-15_14.md', 'type': 'support-email', 'date': '2024-01-27 10:15:14', 'support_type': 'admin'}\n"
     ]
    },
    {
     "name": "stderr",
     "output_type": "stream",
     "text": [
      "Embedding and Storing documents to VectorDB:  17%|██████████████████                                                                                          | 26/155 [00:15<00:54,  2.37it/s]"
     ]
    },
    {
     "name": "stdout",
     "output_type": "stream",
     "text": [
      "Stored document with ID: doc-25 and metadata: {'source': '../gmail-reader/gmail_threads/2022-05-29_11-33_30.md', 'type': 'support-email', 'date': '2022-05-29 11:33:30', 'support_type': 'admin'}\n"
     ]
    },
    {
     "name": "stderr",
     "output_type": "stream",
     "text": [
      "Embedding and Storing documents to VectorDB:  17%|██████████████████▊                                                                                         | 27/155 [00:18<02:11,  1.03s/it]"
     ]
    },
    {
     "name": "stdout",
     "output_type": "stream",
     "text": [
      "Stored document with ID: doc-26 and metadata: {'source': '../gmail-reader/gmail_threads/2025-02-12_12-07_10.md', 'type': 'support-email', 'date': '2025-02-12 12:07:10', 'support_type': 'generic_frontend'}\n"
     ]
    },
    {
     "name": "stderr",
     "output_type": "stream",
     "text": [
      "Embedding and Storing documents to VectorDB:  18%|███████████████████▌                                                                                        | 28/155 [00:19<02:00,  1.05it/s]"
     ]
    },
    {
     "name": "stdout",
     "output_type": "stream",
     "text": [
      "Stored document with ID: doc-27 and metadata: {'source': '../gmail-reader/gmail_threads/2022-12-08_16-11_13.md', 'type': 'support-email', 'date': '2022-12-08 16:11:13', 'support_type': 'admin'}\n"
     ]
    },
    {
     "name": "stderr",
     "output_type": "stream",
     "text": [
      "Embedding and Storing documents to VectorDB:  19%|████████████████████▏                                                                                       | 29/155 [00:19<01:56,  1.08it/s]"
     ]
    },
    {
     "name": "stdout",
     "output_type": "stream",
     "text": [
      "Stored document with ID: doc-28 and metadata: {'source': '../gmail-reader/gmail_threads/2023-04-18_21-11_41.md', 'type': 'support-email', 'date': '2023-04-18 21:11:41', 'support_type': 'admin'}\n"
     ]
    },
    {
     "name": "stderr",
     "output_type": "stream",
     "text": [
      "Embedding and Storing documents to VectorDB:  19%|████████████████████▉                                                                                       | 30/155 [00:20<01:42,  1.22it/s]"
     ]
    },
    {
     "name": "stdout",
     "output_type": "stream",
     "text": [
      "Stored document with ID: doc-29 and metadata: {'source': '../gmail-reader/gmail_threads/2022-05-28_08-18_29.md', 'type': 'support-email', 'date': '2022-05-28 08:18:29', 'support_type': 'admin'}\n"
     ]
    },
    {
     "name": "stderr",
     "output_type": "stream",
     "text": [
      "Embedding and Storing documents to VectorDB:  20%|█████████████████████▌                                                                                      | 31/155 [00:20<01:31,  1.35it/s]"
     ]
    },
    {
     "name": "stdout",
     "output_type": "stream",
     "text": [
      "Stored document with ID: doc-30 and metadata: {'source': '../gmail-reader/gmail_threads/2024-11-13_14-29_23.md', 'type': 'support-email', 'date': '2024-11-13 14:29:23', 'support_type': 'generic_frontend'}\n"
     ]
    },
    {
     "name": "stderr",
     "output_type": "stream",
     "text": [
      "Embedding and Storing documents to VectorDB:  21%|██████████████████████▎                                                                                     | 32/155 [00:21<01:19,  1.54it/s]"
     ]
    },
    {
     "name": "stdout",
     "output_type": "stream",
     "text": [
      "Stored document with ID: doc-31 and metadata: {'source': '../gmail-reader/gmail_threads/2022-02-22_10-47_49.md', 'type': 'support-email', 'date': '2022-02-22 10:47:49', 'support_type': 'admin'}\n"
     ]
    },
    {
     "name": "stderr",
     "output_type": "stream",
     "text": [
      "Embedding and Storing documents to VectorDB:  21%|██████████████████████▉                                                                                     | 33/155 [00:22<01:18,  1.54it/s]"
     ]
    },
    {
     "name": "stdout",
     "output_type": "stream",
     "text": [
      "Stored document with ID: doc-32 and metadata: {'source': '../gmail-reader/gmail_threads/2022-09-04_15-17_17.md', 'type': 'support-email', 'date': '2022-09-04 15:17:17', 'support_type': 'wizard'}\n"
     ]
    },
    {
     "name": "stderr",
     "output_type": "stream",
     "text": [
      "Embedding and Storing documents to VectorDB:  22%|███████████████████████▋                                                                                    | 34/155 [00:22<01:10,  1.73it/s]"
     ]
    },
    {
     "name": "stdout",
     "output_type": "stream",
     "text": [
      "Stored document with ID: doc-33 and metadata: {'source': '../gmail-reader/gmail_threads/2023-01-17_09-38_7.md', 'type': 'support-email', 'date': '2023-01-17_09-38_7', 'support_type': 'generic_frontend'}\n"
     ]
    },
    {
     "name": "stderr",
     "output_type": "stream",
     "text": [
      "Embedding and Storing documents to VectorDB:  23%|████████████████████████▍                                                                                   | 35/155 [00:23<01:09,  1.74it/s]"
     ]
    },
    {
     "name": "stdout",
     "output_type": "stream",
     "text": [
      "Stored document with ID: doc-34 and metadata: {'source': '../gmail-reader/gmail_threads/2023-03-24_11-06_1.md', 'type': 'support-email', 'date': '2023-03-24_11-06_1', 'support_type': 'admin'}\n"
     ]
    },
    {
     "name": "stderr",
     "output_type": "stream",
     "text": [
      "Embedding and Storing documents to VectorDB:  23%|█████████████████████████                                                                                   | 36/155 [00:23<01:06,  1.78it/s]"
     ]
    },
    {
     "name": "stdout",
     "output_type": "stream",
     "text": [
      "Stored document with ID: doc-35 and metadata: {'source': '../gmail-reader/gmail_threads/2023-07-16_21-38_26.md', 'type': 'support-email', 'date': '2023-07-16 21:38:26', 'support_type': 'admin'}\n"
     ]
    },
    {
     "name": "stderr",
     "output_type": "stream",
     "text": [
      "Embedding and Storing documents to VectorDB:  24%|█████████████████████████▊                                                                                  | 37/155 [00:24<01:03,  1.87it/s]"
     ]
    },
    {
     "name": "stdout",
     "output_type": "stream",
     "text": [
      "Stored document with ID: doc-36 and metadata: {'source': '../gmail-reader/gmail_threads/2023-03-07_12-36_3.md', 'type': 'support-email', 'date': '2023-03-07_12-36_3', 'support_type': 'generic_frontend'}\n"
     ]
    },
    {
     "name": "stderr",
     "output_type": "stream",
     "text": [
      "Embedding and Storing documents to VectorDB:  25%|██████████████████████████▍                                                                                 | 38/155 [00:24<01:01,  1.89it/s]"
     ]
    },
    {
     "name": "stdout",
     "output_type": "stream",
     "text": [
      "Stored document with ID: doc-37 and metadata: {'source': '../gmail-reader/gmail_threads/2022-11-12_23-11_33.md', 'type': 'support-email', 'date': '2022-11-12 23:11:33', 'support_type': 'admin'}\n"
     ]
    },
    {
     "name": "stderr",
     "output_type": "stream",
     "text": [
      "Embedding and Storing documents to VectorDB:  25%|███████████████████████████▏                                                                                | 39/155 [00:25<00:58,  1.99it/s]"
     ]
    },
    {
     "name": "stdout",
     "output_type": "stream",
     "text": [
      "Stored document with ID: doc-38 and metadata: {'source': '../gmail-reader/gmail_threads/2023-12-16_12-53_17.md', 'type': 'support-email', 'date': '2023-12-16 12:53:17', 'support_type': 'admin'}\n"
     ]
    },
    {
     "name": "stderr",
     "output_type": "stream",
     "text": [
      "Embedding and Storing documents to VectorDB:  26%|███████████████████████████▊                                                                                | 40/155 [00:25<01:04,  1.79it/s]"
     ]
    },
    {
     "name": "stdout",
     "output_type": "stream",
     "text": [
      "Stored document with ID: doc-39 and metadata: {'source': '../gmail-reader/gmail_threads/2021-11-25_12-32_53.md', 'type': 'support-email', 'date': '2021-11-25 12:32:53', 'support_type': 'admin'}\n"
     ]
    },
    {
     "name": "stderr",
     "output_type": "stream",
     "text": [
      "Embedding and Storing documents to VectorDB:  26%|████████████████████████████▌                                                                               | 41/155 [00:26<01:02,  1.82it/s]"
     ]
    },
    {
     "name": "stdout",
     "output_type": "stream",
     "text": [
      "Stored document with ID: doc-40 and metadata: {'source': '../gmail-reader/gmail_threads/2025-07-07_11-05_0.md', 'type': 'support-email', 'date': '2025-07-07_11-05_0', 'support_type': 'admin'}\n"
     ]
    },
    {
     "name": "stderr",
     "output_type": "stream",
     "text": [
      "Embedding and Storing documents to VectorDB:  27%|█████████████████████████████▎                                                                              | 42/155 [00:26<01:07,  1.68it/s]"
     ]
    },
    {
     "name": "stdout",
     "output_type": "stream",
     "text": [
      "Stored document with ID: doc-41 and metadata: {'source': '../gmail-reader/gmail_threads/2022-03-16_18-03_47.md', 'type': 'support-email', 'date': '2022-03-16 18:03:47', 'support_type': 'generic_frontend'}\n"
     ]
    },
    {
     "name": "stderr",
     "output_type": "stream",
     "text": [
      "Embedding and Storing documents to VectorDB:  28%|█████████████████████████████▉                                                                              | 43/155 [00:27<01:03,  1.77it/s]"
     ]
    },
    {
     "name": "stdout",
     "output_type": "stream",
     "text": [
      "Stored document with ID: doc-42 and metadata: {'source': '../gmail-reader/gmail_threads/2021-11-05_17-47_1.md', 'type': 'support-email', 'date': '2021-11-05_17-47_1', 'support_type': 'wizard'}\n"
     ]
    },
    {
     "name": "stderr",
     "output_type": "stream",
     "text": [
      "Embedding and Storing documents to VectorDB:  28%|██████████████████████████████▋                                                                             | 44/155 [00:27<00:55,  1.99it/s]"
     ]
    },
    {
     "name": "stdout",
     "output_type": "stream",
     "text": [
      "Stored document with ID: doc-43 and metadata: {'source': '../gmail-reader/gmail_threads/2019-11-27_23-24_16.md', 'type': 'support-email', 'date': '2019-11-27 23:24:16', 'support_type': 'generic_frontend'}\n"
     ]
    },
    {
     "name": "stderr",
     "output_type": "stream",
     "text": [
      "Embedding and Storing documents to VectorDB:  29%|███████████████████████████████▎                                                                            | 45/155 [00:28<00:53,  2.07it/s]"
     ]
    },
    {
     "name": "stdout",
     "output_type": "stream",
     "text": [
      "Stored document with ID: doc-44 and metadata: {'source': '../gmail-reader/gmail_threads/2022-05-02_19-03_35.md', 'type': 'support-email', 'date': '2022-05-02 19:03:35', 'support_type': 'admin'}\n"
     ]
    },
    {
     "name": "stderr",
     "output_type": "stream",
     "text": [
      "Embedding and Storing documents to VectorDB:  30%|████████████████████████████████                                                                            | 46/155 [00:28<00:58,  1.88it/s]"
     ]
    },
    {
     "name": "stdout",
     "output_type": "stream",
     "text": [
      "Stored document with ID: doc-45 and metadata: {'source': '../gmail-reader/gmail_threads/2024-12-03_12-12_13.md', 'type': 'support-email', 'date': '2024-12-03 12:12:13', 'support_type': 'admin'}\n"
     ]
    },
    {
     "name": "stderr",
     "output_type": "stream",
     "text": [
      "Embedding and Storing documents to VectorDB:  30%|████████████████████████████████▋                                                                           | 47/155 [00:29<01:04,  1.67it/s]"
     ]
    },
    {
     "name": "stdout",
     "output_type": "stream",
     "text": [
      "Stored document with ID: doc-46 and metadata: {'source': '../gmail-reader/gmail_threads/2023-07-11_13-23_31.md', 'type': 'support-email', 'date': '2023-07-11 13:23:31', 'support_type': 'admin'}\n"
     ]
    },
    {
     "name": "stderr",
     "output_type": "stream",
     "text": [
      "Embedding and Storing documents to VectorDB:  31%|█████████████████████████████████▍                                                                          | 48/155 [00:30<01:00,  1.78it/s]"
     ]
    },
    {
     "name": "stdout",
     "output_type": "stream",
     "text": [
      "Stored document with ID: doc-47 and metadata: {'source': '../gmail-reader/gmail_threads/2023-02-06_11-38_6.md', 'type': 'support-email', 'date': '2023-02-06_11-38_6', 'support_type': 'generic_frontend'}\n"
     ]
    },
    {
     "name": "stderr",
     "output_type": "stream",
     "text": [
      "Embedding and Storing documents to VectorDB:  32%|██████████████████████████████████▏                                                                         | 49/155 [00:30<01:01,  1.73it/s]"
     ]
    },
    {
     "name": "stdout",
     "output_type": "stream",
     "text": [
      "Stored document with ID: doc-48 and metadata: {'source': '../gmail-reader/gmail_threads/2024-12-01_10-34_15.md', 'type': 'support-email', 'date': '2024-12-01 10:34:15', 'support_type': 'generic_frontend'}\n"
     ]
    },
    {
     "name": "stderr",
     "output_type": "stream",
     "text": [
      "Embedding and Storing documents to VectorDB:  32%|██████████████████████████████████▊                                                                         | 50/155 [00:31<00:58,  1.78it/s]"
     ]
    },
    {
     "name": "stdout",
     "output_type": "stream",
     "text": [
      "Stored document with ID: doc-49 and metadata: {'source': '../gmail-reader/gmail_threads/2023-09-21_07-38_27.md', 'type': 'support-email', 'date': '2023-09-21 07:38:27', 'support_type': 'admin'}\n"
     ]
    },
    {
     "name": "stderr",
     "output_type": "stream",
     "text": [
      "Embedding and Storing documents to VectorDB:  33%|███████████████████████████████████▌                                                                        | 51/155 [00:31<00:59,  1.74it/s]"
     ]
    },
    {
     "name": "stdout",
     "output_type": "stream",
     "text": [
      "Stored document with ID: doc-50 and metadata: {'source': '../gmail-reader/gmail_threads/2024-04-11_18-30_9.md', 'type': 'support-email', 'date': '2024-04-11_18-30_9', 'support_type': 'admin'}\n"
     ]
    },
    {
     "name": "stderr",
     "output_type": "stream",
     "text": [
      "Embedding and Storing documents to VectorDB:  34%|████████████████████████████████████▏                                                                       | 52/155 [00:32<00:56,  1.83it/s]"
     ]
    },
    {
     "name": "stdout",
     "output_type": "stream",
     "text": [
      "Stored document with ID: doc-51 and metadata: {'source': '../gmail-reader/gmail_threads/2024-11-12_09-59_22.md', 'type': 'support-email', 'date': '2024-11-12 09:59:22', 'support_type': 'admin'}\n"
     ]
    },
    {
     "name": "stderr",
     "output_type": "stream",
     "text": [
      "Embedding and Storing documents to VectorDB:  34%|████████████████████████████████████▉                                                                       | 53/155 [00:32<00:54,  1.88it/s]"
     ]
    },
    {
     "name": "stdout",
     "output_type": "stream",
     "text": [
      "Stored document with ID: doc-52 and metadata: {'source': '../gmail-reader/gmail_threads/2025-07-07_11-05_1.md', 'type': 'support-email', 'date': '2025-07-07_11-05_1', 'support_type': 'admin'}\n"
     ]
    },
    {
     "name": "stderr",
     "output_type": "stream",
     "text": [
      "Embedding and Storing documents to VectorDB:  35%|█████████████████████████████████████▋                                                                      | 54/155 [00:33<00:54,  1.84it/s]"
     ]
    },
    {
     "name": "stdout",
     "output_type": "stream",
     "text": [
      "Stored document with ID: doc-53 and metadata: {'source': '../gmail-reader/gmail_threads/2024-12-01_08-34_16.md', 'type': 'support-email', 'date': '2024-12-01 08:34:16', 'support_type': 'admin'}\n"
     ]
    },
    {
     "name": "stderr",
     "output_type": "stream",
     "text": [
      "Embedding and Storing documents to VectorDB:  35%|██████████████████████████████████████▎                                                                     | 55/155 [00:33<00:53,  1.87it/s]"
     ]
    },
    {
     "name": "stdout",
     "output_type": "stream",
     "text": [
      "Stored document with ID: doc-54 and metadata: {'source': '../gmail-reader/gmail_threads/2022-04-28_17-51_36.md', 'type': 'support-email', 'date': '2022-04-28 17:51:36', 'support_type': 'admin'}\n"
     ]
    },
    {
     "name": "stderr",
     "output_type": "stream",
     "text": [
      "Embedding and Storing documents to VectorDB:  36%|███████████████████████████████████████                                                                     | 56/155 [00:34<00:48,  2.04it/s]"
     ]
    },
    {
     "name": "stdout",
     "output_type": "stream",
     "text": [
      "Stored document with ID: doc-55 and metadata: {'source': '../gmail-reader/gmail_threads/2025-06-17_21-35_1.md', 'type': 'support-email', 'date': '2025-06-17_21-35_1', 'support_type': 'admin'}\n"
     ]
    },
    {
     "name": "stderr",
     "output_type": "stream",
     "text": [
      "Embedding and Storing documents to VectorDB:  37%|███████████████████████████████████████▋                                                                    | 57/155 [00:34<00:48,  2.00it/s]"
     ]
    },
    {
     "name": "stdout",
     "output_type": "stream",
     "text": [
      "Stored document with ID: doc-56 and metadata: {'source': '../gmail-reader/gmail_threads/2025-04-28_08-50_8.md', 'type': 'support-email', 'date': '2025-04-28_08-50_8', 'support_type': 'admin'}\n"
     ]
    },
    {
     "name": "stderr",
     "output_type": "stream",
     "text": [
      "Embedding and Storing documents to VectorDB:  37%|████████████████████████████████████████▍                                                                   | 58/155 [00:35<00:52,  1.84it/s]"
     ]
    },
    {
     "name": "stdout",
     "output_type": "stream",
     "text": [
      "Stored document with ID: doc-57 and metadata: {'source': '../gmail-reader/gmail_threads/2021-10-15_12-39_6.md', 'type': 'support-email', 'date': '2021-10-15_12-39_6', 'support_type': 'admin'}\n"
     ]
    },
    {
     "name": "stderr",
     "output_type": "stream",
     "text": [
      "Embedding and Storing documents to VectorDB:  38%|█████████████████████████████████████████                                                                   | 59/155 [00:35<00:49,  1.94it/s]"
     ]
    },
    {
     "name": "stdout",
     "output_type": "stream",
     "text": [
      "Stored document with ID: doc-58 and metadata: {'source': '../gmail-reader/gmail_threads/2023-09-06_15-53_28.md', 'type': 'support-email', 'date': '2023-09-06 15:53:28', 'support_type': 'admin'}\n"
     ]
    },
    {
     "name": "stderr",
     "output_type": "stream",
     "text": [
      "Embedding and Storing documents to VectorDB:  39%|█████████████████████████████████████████▊                                                                  | 60/155 [00:36<00:44,  2.13it/s]"
     ]
    },
    {
     "name": "stdout",
     "output_type": "stream",
     "text": [
      "Stored document with ID: doc-59 and metadata: {'source': '../gmail-reader/gmail_threads/2023-11-14_21-42_21.md', 'type': 'support-email', 'date': '2023-11-14 21:42:21', 'support_type': 'admin'}\n"
     ]
    },
    {
     "name": "stderr",
     "output_type": "stream",
     "text": [
      "Embedding and Storing documents to VectorDB:  39%|██████████████████████████████████████████▌                                                                 | 61/155 [00:37<00:52,  1.80it/s]"
     ]
    },
    {
     "name": "stdout",
     "output_type": "stream",
     "text": [
      "Stored document with ID: doc-60 and metadata: {'source': '../gmail-reader/gmail_threads/2021-10-22_17-47_46.md', 'type': 'support-email', 'date': '2021-10-22 17:47:46', 'support_type': 'admin'}\n"
     ]
    },
    {
     "name": "stderr",
     "output_type": "stream",
     "text": [
      "Embedding and Storing documents to VectorDB:  40%|███████████████████████████████████████████▏                                                                | 62/155 [00:37<00:55,  1.68it/s]"
     ]
    },
    {
     "name": "stdout",
     "output_type": "stream",
     "text": [
      "Stored document with ID: doc-61 and metadata: {'source': '../gmail-reader/gmail_threads/2023-07-11_17-23_30.md', 'type': 'support-email', 'date': '2023-07-11 17:23:30', 'support_type': 'admin'}\n"
     ]
    },
    {
     "name": "stderr",
     "output_type": "stream",
     "text": [
      "Embedding and Storing documents to VectorDB:  41%|███████████████████████████████████████████▉                                                                | 63/155 [00:38<01:05,  1.41it/s]"
     ]
    },
    {
     "name": "stdout",
     "output_type": "stream",
     "text": [
      "Stored document with ID: doc-62 and metadata: {'source': '../gmail-reader/gmail_threads/2024-05-30_18-30_3.md', 'type': 'support-email', 'date': '2024-05-30_18-30_3', 'support_type': 'admin'}\n"
     ]
    },
    {
     "name": "stderr",
     "output_type": "stream",
     "text": [
      "Embedding and Storing documents to VectorDB:  41%|████████████████████████████████████████████▌                                                               | 64/155 [00:39<00:59,  1.53it/s]"
     ]
    },
    {
     "name": "stdout",
     "output_type": "stream",
     "text": [
      "Stored document with ID: doc-63 and metadata: {'source': '../gmail-reader/gmail_threads/2021-12-17_09-47_52.md', 'type': 'support-email', 'date': '2021-12-17 09:47:52', 'support_type': 'admin'}\n"
     ]
    },
    {
     "name": "stderr",
     "output_type": "stream",
     "text": [
      "Embedding and Storing documents to VectorDB:  42%|█████████████████████████████████████████████▎                                                              | 65/155 [00:39<00:54,  1.65it/s]"
     ]
    },
    {
     "name": "stdout",
     "output_type": "stream",
     "text": [
      "Stored document with ID: doc-64 and metadata: {'source': '../gmail-reader/gmail_threads/2022-04-05_21-31_44.md', 'type': 'support-email', 'date': '2022-04-05 21:31:44', 'support_type': 'admin'}\n"
     ]
    },
    {
     "name": "stderr",
     "output_type": "stream",
     "text": [
      "Embedding and Storing documents to VectorDB:  43%|█████████████████████████████████████████████▉                                                              | 66/155 [00:40<00:55,  1.62it/s]"
     ]
    },
    {
     "name": "stdout",
     "output_type": "stream",
     "text": [
      "Stored document with ID: doc-65 and metadata: {'source': '../gmail-reader/gmail_threads/2022-10-16_10-32_15.md', 'type': 'support-email', 'date': '2022-10-16 10:32:15', 'support_type': 'admin'}\n"
     ]
    },
    {
     "name": "stderr",
     "output_type": "stream",
     "text": [
      "Embedding and Storing documents to VectorDB:  43%|██████████████████████████████████████████████▋                                                             | 67/155 [00:40<00:50,  1.75it/s]"
     ]
    },
    {
     "name": "stdout",
     "output_type": "stream",
     "text": [
      "Stored document with ID: doc-66 and metadata: {'source': '../gmail-reader/gmail_threads/2025-06-07_07-44_2.md', 'type': 'support-email', 'date': '2025-06-07_07-44_2', 'support_type': 'admin'}\n"
     ]
    },
    {
     "name": "stderr",
     "output_type": "stream",
     "text": [
      "Embedding and Storing documents to VectorDB:  44%|███████████████████████████████████████████████▍                                                            | 68/155 [00:41<00:46,  1.89it/s]"
     ]
    },
    {
     "name": "stdout",
     "output_type": "stream",
     "text": [
      "Stored document with ID: doc-67 and metadata: {'source': '../gmail-reader/gmail_threads/2024-03-10_09-59_12.md', 'type': 'support-email', 'date': '2024-03-10 09:59:12', 'support_type': 'admin'}\n"
     ]
    },
    {
     "name": "stderr",
     "output_type": "stream",
     "text": [
      "Embedding and Storing documents to VectorDB:  45%|████████████████████████████████████████████████                                                            | 69/155 [00:41<00:41,  2.08it/s]"
     ]
    },
    {
     "name": "stdout",
     "output_type": "stream",
     "text": [
      "Stored document with ID: doc-68 and metadata: {'source': '../gmail-reader/gmail_threads/2024-10-26_11-00_25.md', 'type': 'support-email', 'date': '2024-10-26 11:00:25', 'support_type': 'generic_frontend'}\n"
     ]
    },
    {
     "name": "stderr",
     "output_type": "stream",
     "text": [
      "Embedding and Storing documents to VectorDB:  45%|████████████████████████████████████████████████▊                                                           | 70/155 [00:42<00:42,  2.02it/s]"
     ]
    },
    {
     "name": "stdout",
     "output_type": "stream",
     "text": [
      "Stored document with ID: doc-69 and metadata: {'source': '../gmail-reader/gmail_threads/2022-05-27_08-18_31.md', 'type': 'support-email', 'date': '2022-05-27 08:18:31', 'support_type': 'admin'}\n"
     ]
    },
    {
     "name": "stderr",
     "output_type": "stream",
     "text": [
      "Embedding and Storing documents to VectorDB:  46%|█████████████████████████████████████████████████▍                                                          | 71/155 [00:42<00:41,  2.01it/s]"
     ]
    },
    {
     "name": "stdout",
     "output_type": "stream",
     "text": [
      "Stored document with ID: doc-70 and metadata: {'source': '../gmail-reader/gmail_threads/2025-05-15_06-04_4.md', 'type': 'support-email', 'date': '2025-05-15_06-04_4', 'support_type': 'admin'}\n"
     ]
    },
    {
     "name": "stderr",
     "output_type": "stream",
     "text": [
      "Embedding and Storing documents to VectorDB:  46%|██████████████████████████████████████████████████▏                                                         | 72/155 [00:43<00:38,  2.15it/s]"
     ]
    },
    {
     "name": "stdout",
     "output_type": "stream",
     "text": [
      "Stored document with ID: doc-71 and metadata: {'source': '../gmail-reader/gmail_threads/2025-03-13_21-41_9.md', 'type': 'support-email', 'date': '2025-03-13_21-41_9', 'support_type': 'generic_frontend'}\n"
     ]
    },
    {
     "name": "stderr",
     "output_type": "stream",
     "text": [
      "Embedding and Storing documents to VectorDB:  47%|██████████████████████████████████████████████████▊                                                         | 73/155 [00:43<00:39,  2.07it/s]"
     ]
    },
    {
     "name": "stdout",
     "output_type": "stream",
     "text": [
      "Stored document with ID: doc-72 and metadata: {'source': '../gmail-reader/gmail_threads/2025-05-15_06-04_5.md', 'type': 'support-email', 'date': '2025-05-15_06-04_5', 'support_type': 'admin'}\n"
     ]
    },
    {
     "name": "stderr",
     "output_type": "stream",
     "text": [
      "Embedding and Storing documents to VectorDB:  48%|███████████████████████████████████████████████████▌                                                        | 74/155 [00:44<00:42,  1.91it/s]"
     ]
    },
    {
     "name": "stdout",
     "output_type": "stream",
     "text": [
      "Stored document with ID: doc-73 and metadata: {'source': '../gmail-reader/gmail_threads/2021-09-09_20-09_7.md', 'type': 'support-email', 'date': '2021-09-09_20-09_7', 'support_type': 'admin'}\n"
     ]
    },
    {
     "name": "stderr",
     "output_type": "stream",
     "text": [
      "Embedding and Storing documents to VectorDB:  48%|████████████████████████████████████████████████████▎                                                       | 75/155 [00:44<00:37,  2.14it/s]"
     ]
    },
    {
     "name": "stdout",
     "output_type": "stream",
     "text": [
      "Stored document with ID: doc-74 and metadata: {'source': '../gmail-reader/gmail_threads/2024-05-24_09-00_5.md', 'type': 'support-email', 'date': '2024-05-24_09-00_5', 'support_type': 'admin'}\n"
     ]
    },
    {
     "name": "stderr",
     "output_type": "stream",
     "text": [
      "Embedding and Storing documents to VectorDB:  49%|████████████████████████████████████████████████████▉                                                       | 76/155 [00:44<00:33,  2.32it/s]"
     ]
    },
    {
     "name": "stdout",
     "output_type": "stream",
     "text": [
      "Stored document with ID: doc-75 and metadata: {'source': '../gmail-reader/gmail_threads/2021-10-26_20-32_3.md', 'type': 'support-email', 'date': '2021-10-26_20-32_3', 'support_type': 'generic_frontend'}\n"
     ]
    },
    {
     "name": "stderr",
     "output_type": "stream",
     "text": [
      "Embedding and Storing documents to VectorDB:  50%|█████████████████████████████████████████████████████▋                                                      | 77/155 [00:45<00:35,  2.20it/s]"
     ]
    },
    {
     "name": "stdout",
     "output_type": "stream",
     "text": [
      "Stored document with ID: doc-76 and metadata: {'source': '../gmail-reader/gmail_threads/2022-10-12_10-17_22.md', 'type': 'support-email', 'date': '2022-10-12 10:17:22', 'support_type': 'admin'}\n"
     ]
    },
    {
     "name": "stderr",
     "output_type": "stream",
     "text": [
      "Embedding and Storing documents to VectorDB:  50%|██████████████████████████████████████████████████████▎                                                     | 78/155 [00:45<00:34,  2.26it/s]"
     ]
    },
    {
     "name": "stdout",
     "output_type": "stream",
     "text": [
      "Stored document with ID: doc-77 and metadata: {'source': '../gmail-reader/gmail_threads/2019-10-31_06-34_18.md', 'type': 'support-email', 'date': '2019-10-31 06:34:18', 'support_type': 'wizard'}\n"
     ]
    },
    {
     "name": "stderr",
     "output_type": "stream",
     "text": [
      "Embedding and Storing documents to VectorDB:  51%|███████████████████████████████████████████████████████                                                     | 79/155 [00:46<00:32,  2.33it/s]"
     ]
    },
    {
     "name": "stdout",
     "output_type": "stream",
     "text": [
      "Stored document with ID: doc-78 and metadata: {'source': '../gmail-reader/gmail_threads/2024-05-05_13-30_7.md', 'type': 'support-email', 'date': '2024-05-05_13-30_7', 'support_type': 'generic_frontend'}\n"
     ]
    },
    {
     "name": "stderr",
     "output_type": "stream",
     "text": [
      "Embedding and Storing documents to VectorDB:  52%|███████████████████████████████████████████████████████▋                                                    | 80/155 [00:46<00:31,  2.35it/s]"
     ]
    },
    {
     "name": "stdout",
     "output_type": "stream",
     "text": [
      "Stored document with ID: doc-79 and metadata: {'source': '../gmail-reader/gmail_threads/2020-09-30_18-00_11.md', 'type': 'support-email', 'date': '2020-09-30 18:00:11', 'support_type': 'admin'}\n"
     ]
    },
    {
     "name": "stderr",
     "output_type": "stream",
     "text": [
      "Embedding and Storing documents to VectorDB:  52%|████████████████████████████████████████████████████████▍                                                   | 81/155 [00:46<00:30,  2.43it/s]"
     ]
    },
    {
     "name": "stdout",
     "output_type": "stream",
     "text": [
      "Stored document with ID: doc-80 and metadata: {'source': '../gmail-reader/gmail_threads/2024-03-13_19-49_11.md', 'type': 'support-email', 'date': '2024-03-13 19:49:11', 'support_type': 'generic_frontend'}\n"
     ]
    },
    {
     "name": "stderr",
     "output_type": "stream",
     "text": [
      "Embedding and Storing documents to VectorDB:  53%|█████████████████████████████████████████████████████████▏                                                  | 82/155 [00:47<00:28,  2.53it/s]"
     ]
    },
    {
     "name": "stdout",
     "output_type": "stream",
     "text": [
      "Stored document with ID: doc-81 and metadata: {'source': '../gmail-reader/gmail_threads/2024-11-14_20-03_19.md', 'type': 'support-email', 'date': '2024-11-14 20:03:19', 'support_type': 'admin'}\n"
     ]
    },
    {
     "name": "stderr",
     "output_type": "stream",
     "text": [
      "Embedding and Storing documents to VectorDB:  54%|█████████████████████████████████████████████████████████▊                                                  | 83/155 [00:47<00:29,  2.41it/s]"
     ]
    },
    {
     "name": "stdout",
     "output_type": "stream",
     "text": [
      "Stored document with ID: doc-82 and metadata: {'source': '../gmail-reader/gmail_threads/2022-10-22_19-16_20.md', 'type': 'support-email', 'date': '2022-10-22 19:16:20', 'support_type': 'admin'}\n"
     ]
    },
    {
     "name": "stderr",
     "output_type": "stream",
     "text": [
      "Embedding and Storing documents to VectorDB:  54%|██████████████████████████████████████████████████████████▌                                                 | 84/155 [00:48<00:30,  2.32it/s]"
     ]
    },
    {
     "name": "stdout",
     "output_type": "stream",
     "text": [
      "Stored document with ID: doc-83 and metadata: {'source': '../gmail-reader/gmail_threads/2022-10-21_14-01_21.md', 'type': 'support-email', 'date': '2022-10-21 14:01:21', 'support_type': 'admin'}\n"
     ]
    },
    {
     "name": "stderr",
     "output_type": "stream",
     "text": [
      "Embedding and Storing documents to VectorDB:  55%|███████████████████████████████████████████████████████████▏                                                | 85/155 [00:48<00:31,  2.25it/s]"
     ]
    },
    {
     "name": "stdout",
     "output_type": "stream",
     "text": [
      "Stored document with ID: doc-84 and metadata: {'source': '../gmail-reader/gmail_threads/2022-09-26_09-32_24.md', 'type': 'support-email', 'date': '2022-09-26 09:32:24', 'support_type': 'generic_frontend'}\n"
     ]
    },
    {
     "name": "stderr",
     "output_type": "stream",
     "text": [
      "Embedding and Storing documents to VectorDB:  55%|███████████████████████████████████████████████████████████▉                                                | 86/155 [00:49<00:31,  2.22it/s]"
     ]
    },
    {
     "name": "stdout",
     "output_type": "stream",
     "text": [
      "Stored document with ID: doc-85 and metadata: {'source': '../gmail-reader/gmail_threads/2020-02-04_20-09_14.md', 'type': 'support-email', 'date': '2020-02-04 20:09:14', 'support_type': 'generic_frontend'}\n"
     ]
    },
    {
     "name": "stderr",
     "output_type": "stream",
     "text": [
      "Embedding and Storing documents to VectorDB:  56%|████████████████████████████████████████████████████████████▌                                               | 87/155 [00:49<00:31,  2.17it/s]"
     ]
    },
    {
     "name": "stdout",
     "output_type": "stream",
     "text": [
      "Stored document with ID: doc-86 and metadata: {'source': '../gmail-reader/gmail_threads/2022-08-18_12-32_26.md', 'type': 'support-email', 'date': '2022-08-18 12:32:26', 'support_type': 'admin'}\n"
     ]
    },
    {
     "name": "stderr",
     "output_type": "stream",
     "text": [
      "Embedding and Storing documents to VectorDB:  57%|█████████████████████████████████████████████████████████████▎                                              | 88/155 [00:50<00:31,  2.10it/s]"
     ]
    },
    {
     "name": "stdout",
     "output_type": "stream",
     "text": [
      "Stored document with ID: doc-87 and metadata: {'source': '../gmail-reader/gmail_threads/2023-06-11_22-23_34.md', 'type': 'support-email', 'date': '2023-06-11 22:23:34', 'support_type': 'admin'}\n"
     ]
    },
    {
     "name": "stderr",
     "output_type": "stream",
     "text": [
      "Embedding and Storing documents to VectorDB:  57%|██████████████████████████████████████████████████████████████                                              | 89/155 [00:50<00:36,  1.81it/s]"
     ]
    },
    {
     "name": "stdout",
     "output_type": "stream",
     "text": [
      "Stored document with ID: doc-88 and metadata: {'source': '../gmail-reader/gmail_threads/2022-11-10_08-26_18.md', 'type': 'support-email', 'date': '2022-11-10 08:26:18', 'support_type': 'admin'}\n"
     ]
    },
    {
     "name": "stderr",
     "output_type": "stream",
     "text": [
      "Embedding and Storing documents to VectorDB:  58%|██████████████████████████████████████████████████████████████▋                                             | 90/155 [00:51<00:32,  2.01it/s]"
     ]
    },
    {
     "name": "stdout",
     "output_type": "stream",
     "text": [
      "Stored document with ID: doc-89 and metadata: {'source': '../gmail-reader/gmail_threads/2021-11-04_23-47_2.md', 'type': 'support-email', 'date': '2021-11-04_23-47_2', 'support_type': 'generic_frontend'}\n"
     ]
    },
    {
     "name": "stderr",
     "output_type": "stream",
     "text": [
      "Embedding and Storing documents to VectorDB:  59%|███████████████████████████████████████████████████████████████▍                                            | 91/155 [00:51<00:31,  2.06it/s]"
     ]
    },
    {
     "name": "stdout",
     "output_type": "stream",
     "text": [
      "Stored document with ID: doc-90 and metadata: {'source': '../gmail-reader/gmail_threads/2020-09-10_12-00_13.md', 'type': 'support-email', 'date': '2020-09-10 12:00:13', 'support_type': 'admin'}\n"
     ]
    },
    {
     "name": "stderr",
     "output_type": "stream",
     "text": [
      "Embedding and Storing documents to VectorDB:  59%|████████████████████████████████████████████████████████████████                                            | 92/155 [00:52<00:28,  2.19it/s]"
     ]
    },
    {
     "name": "stdout",
     "output_type": "stream",
     "text": [
      "Stored document with ID: doc-91 and metadata: {'source': '../gmail-reader/gmail_threads/2023-03-06_17-21_5.md', 'type': 'support-email', 'date': '2023-03-06_17-21_5', 'support_type': 'admin'}\n"
     ]
    },
    {
     "name": "stderr",
     "output_type": "stream",
     "text": [
      "Embedding and Storing documents to VectorDB:  60%|████████████████████████████████████████████████████████████████▊                                           | 93/155 [00:52<00:32,  1.91it/s]"
     ]
    },
    {
     "name": "stdout",
     "output_type": "stream",
     "text": [
      "Stored document with ID: doc-92 and metadata: {'source': '../gmail-reader/gmail_threads/2022-04-06_10-31_45.md', 'type': 'support-email', 'date': '2022-04-06 10:31:45', 'support_type': 'admin'}\n"
     ]
    },
    {
     "name": "stderr",
     "output_type": "stream",
     "text": [
      "Embedding and Storing documents to VectorDB:  61%|█████████████████████████████████████████████████████████████████▍                                          | 94/155 [00:53<00:28,  2.11it/s]"
     ]
    },
    {
     "name": "stdout",
     "output_type": "stream",
     "text": [
      "Stored document with ID: doc-93 and metadata: {'source': '../gmail-reader/gmail_threads/2020-09-21_07-15_12.md', 'type': 'support-email', 'date': '2020-09-21 07:15:12', 'support_type': 'admin'}\n"
     ]
    },
    {
     "name": "stderr",
     "output_type": "stream",
     "text": [
      "Embedding and Storing documents to VectorDB:  61%|██████████████████████████████████████████████████████████████████▏                                         | 95/155 [00:53<00:28,  2.13it/s]"
     ]
    },
    {
     "name": "stdout",
     "output_type": "stream",
     "text": [
      "Stored document with ID: doc-94 and metadata: {'source': '../gmail-reader/gmail_threads/2024-11-11_17-30_21.md', 'type': 'support-email', 'date': '2024-11-11 17:30:21', 'support_type': 'admin'}\n"
     ]
    },
    {
     "name": "stderr",
     "output_type": "stream",
     "text": [
      "Embedding and Storing documents to VectorDB:  62%|██████████████████████████████████████████████████████████████████▉                                         | 96/155 [00:54<00:27,  2.14it/s]"
     ]
    },
    {
     "name": "stdout",
     "output_type": "stream",
     "text": [
      "Stored document with ID: doc-95 and metadata: {'source': '../gmail-reader/gmail_threads/2024-11-11_21-29_20.md', 'type': 'support-email', 'date': '2024-11-11 21:29:20', 'support_type': 'admin'}\n"
     ]
    },
    {
     "name": "stderr",
     "output_type": "stream",
     "text": [
      "Embedding and Storing documents to VectorDB:  63%|███████████████████████████████████████████████████████████████████▌                                        | 97/155 [00:54<00:25,  2.27it/s]"
     ]
    },
    {
     "name": "stdout",
     "output_type": "stream",
     "text": [
      "Stored document with ID: doc-96 and metadata: {'source': '../gmail-reader/gmail_threads/2022-11-18_14-26_16.md', 'type': 'support-email', 'date': '2022-11-18 14:26:16', 'support_type': 'admin'}\n"
     ]
    },
    {
     "name": "stderr",
     "output_type": "stream",
     "text": [
      "Embedding and Storing documents to VectorDB:  63%|████████████████████████████████████████████████████████████████████▎                                       | 98/155 [00:54<00:24,  2.31it/s]"
     ]
    },
    {
     "name": "stdout",
     "output_type": "stream",
     "text": [
      "Stored document with ID: doc-97 and metadata: {'source': '../gmail-reader/gmail_threads/2024-01-15_18-44_16.md', 'type': 'support-email', 'date': '2024-01-15 18:44:16', 'support_type': 'generic_frontend'}\n"
     ]
    },
    {
     "name": "stderr",
     "output_type": "stream",
     "text": [
      "Embedding and Storing documents to VectorDB:  64%|████████████████████████████████████████████████████████████████████▉                                       | 99/155 [00:55<00:25,  2.18it/s]"
     ]
    },
    {
     "name": "stdout",
     "output_type": "stream",
     "text": [
      "Stored document with ID: doc-98 and metadata: {'source': '../gmail-reader/gmail_threads/2025-06-07_07-44_3.md', 'type': 'support-email', 'date': '2025-06-07_07-44_3', 'support_type': 'admin'}\n"
     ]
    },
    {
     "name": "stderr",
     "output_type": "stream",
     "text": [
      "Embedding and Storing documents to VectorDB:  65%|█████████████████████████████████████████████████████████████████████                                      | 100/155 [00:56<00:27,  2.01it/s]"
     ]
    },
    {
     "name": "stdout",
     "output_type": "stream",
     "text": [
      "Stored document with ID: doc-99 and metadata: {'source': '../gmail-reader/gmail_threads/2022-05-11_16-33_28.md', 'type': 'support-email', 'date': '2022-05-11 16:33:28', 'support_type': 'admin'}\n"
     ]
    },
    {
     "name": "stderr",
     "output_type": "stream",
     "text": [
      "Embedding and Storing documents to VectorDB:  65%|█████████████████████████████████████████████████████████████████████▋                                     | 101/155 [00:56<00:26,  2.03it/s]"
     ]
    },
    {
     "name": "stdout",
     "output_type": "stream",
     "text": [
      "Stored document with ID: doc-100 and metadata: {'source': '../gmail-reader/gmail_threads/2024-06-20_17-30_31.md', 'type': 'support-email', 'date': '2024-06-20 17:30:31', 'support_type': 'admin'}\n"
     ]
    },
    {
     "name": "stderr",
     "output_type": "stream",
     "text": [
      "Embedding and Storing documents to VectorDB:  66%|██████████████████████████████████████████████████████████████████████▍                                    | 102/155 [00:56<00:24,  2.19it/s]"
     ]
    },
    {
     "name": "stdout",
     "output_type": "stream",
     "text": [
      "Stored document with ID: doc-101 and metadata: {'source': '../gmail-reader/gmail_threads/2023-11-14_13-42_22.md', 'type': 'support-email', 'date': '2023-11-14 13:42:22', 'support_type': 'admin'}\n"
     ]
    },
    {
     "name": "stderr",
     "output_type": "stream",
     "text": [
      "Embedding and Storing documents to VectorDB:  66%|███████████████████████████████████████████████████████████████████████                                    | 103/155 [00:57<00:24,  2.14it/s]"
     ]
    },
    {
     "name": "stdout",
     "output_type": "stream",
     "text": [
      "Stored document with ID: doc-102 and metadata: {'source': '../gmail-reader/gmail_threads/2023-11-19_14-40_20.md', 'type': 'support-email', 'date': '2023-11-19 14:40:20', 'support_type': 'admin'}\n"
     ]
    },
    {
     "name": "stderr",
     "output_type": "stream",
     "text": [
      "Embedding and Storing documents to VectorDB:  67%|███████████████████████████████████████████████████████████████████████▊                                   | 104/155 [00:57<00:24,  2.07it/s]"
     ]
    },
    {
     "name": "stdout",
     "output_type": "stream",
     "text": [
      "Stored document with ID: doc-103 and metadata: {'source': '../gmail-reader/gmail_threads/2023-04-25_10-19_39.md', 'type': 'support-email', 'date': '2023-04-25 10:19:39', 'support_type': 'admin'}\n"
     ]
    },
    {
     "name": "stderr",
     "output_type": "stream",
     "text": [
      "Embedding and Storing documents to VectorDB:  68%|████████████████████████████████████████████████████████████████████████▍                                  | 105/155 [00:58<00:23,  2.16it/s]"
     ]
    },
    {
     "name": "stdout",
     "output_type": "stream",
     "text": [
      "Stored document with ID: doc-104 and metadata: {'source': '../gmail-reader/gmail_threads/2023-06-04_19-38_35.md', 'type': 'support-email', 'date': '2023-06-04 19:38:35', 'support_type': 'generic_frontend'}\n"
     ]
    },
    {
     "name": "stderr",
     "output_type": "stream",
     "text": [
      "Embedding and Storing documents to VectorDB:  68%|█████████████████████████████████████████████████████████████████████████▏                                 | 106/155 [00:58<00:23,  2.12it/s]"
     ]
    },
    {
     "name": "stdout",
     "output_type": "stream",
     "text": [
      "Stored document with ID: doc-105 and metadata: {'source': '../gmail-reader/gmail_threads/2020-09-26_13-45_9.md', 'type': 'support-email', 'date': '2020-09-26_13-45_9', 'support_type': 'admin'}\n"
     ]
    },
    {
     "name": "stderr",
     "output_type": "stream",
     "text": [
      "Embedding and Storing documents to VectorDB:  69%|█████████████████████████████████████████████████████████████████████████▊                                 | 107/155 [00:59<00:22,  2.17it/s]"
     ]
    },
    {
     "name": "stdout",
     "output_type": "stream",
     "text": [
      "Stored document with ID: doc-106 and metadata: {'source': '../gmail-reader/gmail_threads/2023-07-11_13-23_32.md', 'type': 'support-email', 'date': '2023-07-11 13:23:32', 'support_type': 'admin'}\n"
     ]
    },
    {
     "name": "stderr",
     "output_type": "stream",
     "text": [
      "Embedding and Storing documents to VectorDB:  70%|██████████████████████████████████████████████████████████████████████████▌                                | 108/155 [00:59<00:21,  2.14it/s]"
     ]
    },
    {
     "name": "stdout",
     "output_type": "stream",
     "text": [
      "Stored document with ID: doc-107 and metadata: {'source': '../gmail-reader/gmail_threads/2022-04-11_16-31_42.md', 'type': 'support-email', 'date': '2022-04-11 16:31:42', 'support_type': 'admin'}\n"
     ]
    },
    {
     "name": "stderr",
     "output_type": "stream",
     "text": [
      "Embedding and Storing documents to VectorDB:  70%|███████████████████████████████████████████████████████████████████████████▏                               | 109/155 [01:00<00:20,  2.22it/s]"
     ]
    },
    {
     "name": "stdout",
     "output_type": "stream",
     "text": [
      "Stored document with ID: doc-108 and metadata: {'source': '../gmail-reader/gmail_threads/2024-10-24_20-00_26.md', 'type': 'support-email', 'date': '2024-10-24 20:00:26', 'support_type': 'generic_frontend'}\n"
     ]
    },
    {
     "name": "stderr",
     "output_type": "stream",
     "text": [
      "Embedding and Storing documents to VectorDB:  71%|███████████████████████████████████████████████████████████████████████████▉                               | 110/155 [01:00<00:21,  2.09it/s]"
     ]
    },
    {
     "name": "stdout",
     "output_type": "stream",
     "text": [
      "Stored document with ID: doc-109 and metadata: {'source': '../gmail-reader/gmail_threads/2024-09-19_05-14_29.md', 'type': 'support-email', 'date': '2024-09-19 05:14:29', 'support_type': 'admin'}\n"
     ]
    },
    {
     "name": "stderr",
     "output_type": "stream",
     "text": [
      "Embedding and Storing documents to VectorDB:  72%|████████████████████████████████████████████████████████████████████████████▋                              | 111/155 [01:01<00:21,  2.04it/s]"
     ]
    },
    {
     "name": "stdout",
     "output_type": "stream",
     "text": [
      "Stored document with ID: doc-110 and metadata: {'source': '../gmail-reader/gmail_threads/2022-04-11_15-31_43.md', 'type': 'support-email', 'date': '2022-04-11 15:31:43', 'support_type': 'generic_frontend'}\n"
     ]
    },
    {
     "name": "stderr",
     "output_type": "stream",
     "text": [
      "Embedding and Storing documents to VectorDB:  72%|█████████████████████████████████████████████████████████████████████████████▎                             | 112/155 [01:01<00:22,  1.92it/s]"
     ]
    },
    {
     "name": "stdout",
     "output_type": "stream",
     "text": [
      "Stored document with ID: doc-111 and metadata: {'source': '../gmail-reader/gmail_threads/2022-04-13_09-16_41.md', 'type': 'support-email', 'date': '2022-04-13 09:16:41', 'support_type': 'admin'}\n"
     ]
    },
    {
     "name": "stderr",
     "output_type": "stream",
     "text": [
      "Embedding and Storing documents to VectorDB:  73%|██████████████████████████████████████████████████████████████████████████████                             | 113/155 [01:02<00:21,  1.92it/s]"
     ]
    },
    {
     "name": "stdout",
     "output_type": "stream",
     "text": [
      "Stored document with ID: doc-112 and metadata: {'source': '../gmail-reader/gmail_threads/2021-10-19_12-47_5.md', 'type': 'support-email', 'date': '2021-10-19_12-47_5', 'support_type': 'admin'}\n"
     ]
    },
    {
     "name": "stderr",
     "output_type": "stream",
     "text": [
      "Embedding and Storing documents to VectorDB:  74%|██████████████████████████████████████████████████████████████████████████████▋                            | 114/155 [01:02<00:20,  1.95it/s]"
     ]
    },
    {
     "name": "stdout",
     "output_type": "stream",
     "text": [
      "Stored document with ID: doc-113 and metadata: {'source': '../gmail-reader/gmail_threads/2023-01-05_15-56_11.md', 'type': 'support-email', 'date': '2023-01-05 15:56:11', 'support_type': 'wizard'}\n"
     ]
    },
    {
     "name": "stderr",
     "output_type": "stream",
     "text": [
      "Embedding and Storing documents to VectorDB:  74%|███████████████████████████████████████████████████████████████████████████████▍                           | 115/155 [01:03<00:20,  1.93it/s]"
     ]
    },
    {
     "name": "stdout",
     "output_type": "stream",
     "text": [
      "Stored document with ID: doc-114 and metadata: {'source': '../gmail-reader/gmail_threads/2022-08-20_13-02_25.md', 'type': 'support-email', 'date': '2022-08-20 13:02:25', 'support_type': 'admin'}\n"
     ]
    },
    {
     "name": "stderr",
     "output_type": "stream",
     "text": [
      "Embedding and Storing documents to VectorDB:  75%|████████████████████████████████████████████████████████████████████████████████                           | 116/155 [01:04<00:22,  1.74it/s]"
     ]
    },
    {
     "name": "stdout",
     "output_type": "stream",
     "text": [
      "Stored document with ID: doc-115 and metadata: {'source': '../gmail-reader/gmail_threads/2023-08-03_09-55_29.md', 'type': 'support-email', 'date': '2023-08-03 09:55:29', 'support_type': 'admin'}\n"
     ]
    },
    {
     "name": "stderr",
     "output_type": "stream",
     "text": [
      "Embedding and Storing documents to VectorDB:  75%|████████████████████████████████████████████████████████████████████████████████▊                          | 117/155 [01:04<00:20,  1.81it/s]"
     ]
    },
    {
     "name": "stdout",
     "output_type": "stream",
     "text": [
      "Stored document with ID: doc-116 and metadata: {'source': '../gmail-reader/gmail_threads/2022-04-26_11-36_38.md', 'type': 'support-email', 'date': '2022-04-26 11:36:38', 'support_type': 'wizard'}\n"
     ]
    },
    {
     "name": "stderr",
     "output_type": "stream",
     "text": [
      "Embedding and Storing documents to VectorDB:  76%|█████████████████████████████████████████████████████████████████████████████████▍                         | 118/155 [01:05<00:20,  1.78it/s]"
     ]
    },
    {
     "name": "stdout",
     "output_type": "stream",
     "text": [
      "Stored document with ID: doc-117 and metadata: {'source': '../gmail-reader/gmail_threads/2019-12-12_09-54_15.md', 'type': 'support-email', 'date': '2019-12-12 09:54:15', 'support_type': 'generic_frontend'}\n"
     ]
    },
    {
     "name": "stderr",
     "output_type": "stream",
     "text": [
      "Embedding and Storing documents to VectorDB:  77%|██████████████████████████████████████████████████████████████████████████████████▏                        | 119/155 [01:05<00:20,  1.74it/s]"
     ]
    },
    {
     "name": "stdout",
     "output_type": "stream",
     "text": [
      "Stored document with ID: doc-118 and metadata: {'source': '../gmail-reader/gmail_threads/2025-04-26_20-50_7.md', 'type': 'support-email', 'date': '2025-04-26_20-50_7', 'support_type': 'generic_frontend'}\n"
     ]
    },
    {
     "name": "stderr",
     "output_type": "stream",
     "text": [
      "Embedding and Storing documents to VectorDB:  77%|██████████████████████████████████████████████████████████████████████████████████▊                        | 120/155 [01:06<00:19,  1.83it/s]"
     ]
    },
    {
     "name": "stdout",
     "output_type": "stream",
     "text": [
      "Stored document with ID: doc-119 and metadata: {'source': '../gmail-reader/gmail_threads/2022-02-15_14-02_50.md', 'type': 'support-email', 'date': '2022-02-15 14:02:50', 'support_type': 'admin'}\n"
     ]
    },
    {
     "name": "stderr",
     "output_type": "stream",
     "text": [
      "Embedding and Storing documents to VectorDB:  78%|███████████████████████████████████████████████████████████████████████████████████▌                       | 121/155 [01:06<00:20,  1.70it/s]"
     ]
    },
    {
     "name": "stdout",
     "output_type": "stream",
     "text": [
      "Stored document with ID: doc-120 and metadata: {'source': '../gmail-reader/gmail_threads/2024-04-13_09-59_8.md', 'type': 'support-email', 'date': '2024-04-13_09-59_8', 'support_type': 'admin'}\n"
     ]
    },
    {
     "name": "stderr",
     "output_type": "stream",
     "text": [
      "Embedding and Storing documents to VectorDB:  79%|████████████████████████████████████████████████████████████████████████████████████▏                      | 122/155 [01:07<00:19,  1.71it/s]"
     ]
    },
    {
     "name": "stdout",
     "output_type": "stream",
     "text": [
      "Stored document with ID: doc-121 and metadata: {'source': '../gmail-reader/gmail_threads/2019-04-16_18-20_23.md', 'type': 'support-email', 'date': '2019-04-16 18:20:23', 'support_type': 'generic_frontend'}\n"
     ]
    },
    {
     "name": "stderr",
     "output_type": "stream",
     "text": [
      "Embedding and Storing documents to VectorDB:  79%|████████████████████████████████████████████████████████████████████████████████████▉                      | 123/155 [01:08<00:19,  1.66it/s]"
     ]
    },
    {
     "name": "stdout",
     "output_type": "stream",
     "text": [
      "Stored document with ID: doc-122 and metadata: {'source': '../gmail-reader/gmail_threads/2024-03-04_20-40_13.md', 'type': 'support-email', 'date': '2024-03-04 20:40:13', 'support_type': 'wizard'}\n"
     ]
    },
    {
     "name": "stderr",
     "output_type": "stream",
     "text": [
      "Embedding and Storing documents to VectorDB:  80%|█████████████████████████████████████████████████████████████████████████████████████▌                     | 124/155 [01:08<00:18,  1.64it/s]"
     ]
    },
    {
     "name": "stdout",
     "output_type": "stream",
     "text": [
      "Stored document with ID: doc-123 and metadata: {'source': '../gmail-reader/gmail_threads/2022-06-08_17-27_27.md', 'type': 'support-email', 'date': '2022-06-08 17:27:27', 'support_type': 'admin'}\n"
     ]
    },
    {
     "name": "stderr",
     "output_type": "stream",
     "text": [
      "Embedding and Storing documents to VectorDB:  81%|██████████████████████████████████████████████████████████████████████████████████████▎                    | 125/155 [01:09<00:17,  1.73it/s]"
     ]
    },
    {
     "name": "stdout",
     "output_type": "stream",
     "text": [
      "Stored document with ID: doc-124 and metadata: {'source': '../gmail-reader/gmail_threads/2025-01-13_10-20_11.md', 'type': 'support-email', 'date': '2025-01-13 10:20:11', 'support_type': 'admin'}\n"
     ]
    },
    {
     "name": "stderr",
     "output_type": "stream",
     "text": [
      "Embedding and Storing documents to VectorDB:  81%|██████████████████████████████████████████████████████████████████████████████████████▉                    | 126/155 [01:09<00:16,  1.76it/s]"
     ]
    },
    {
     "name": "stdout",
     "output_type": "stream",
     "text": [
      "Stored document with ID: doc-125 and metadata: {'source': '../gmail-reader/gmail_threads/2021-06-06_15-54_8.md', 'type': 'support-email', 'date': '2021-06-06_15-54_8', 'support_type': 'admin'}\n"
     ]
    },
    {
     "name": "stderr",
     "output_type": "stream",
     "text": [
      "Embedding and Storing documents to VectorDB:  82%|███████████████████████████████████████████████████████████████████████████████████████▋                   | 127/155 [01:10<00:15,  1.84it/s]"
     ]
    },
    {
     "name": "stdout",
     "output_type": "stream",
     "text": [
      "Stored document with ID: doc-126 and metadata: {'source': '../gmail-reader/gmail_threads/2023-05-18_07-38_37.md', 'type': 'support-email', 'date': '2023-05-18 07:38:37', 'support_type': 'admin'}\n"
     ]
    },
    {
     "name": "stderr",
     "output_type": "stream",
     "text": [
      "Embedding and Storing documents to VectorDB:  83%|████████████████████████████████████████████████████████████████████████████████████████▎                  | 128/155 [01:10<00:14,  1.84it/s]"
     ]
    },
    {
     "name": "stdout",
     "output_type": "stream",
     "text": [
      "Stored document with ID: doc-127 and metadata: {'source': '../gmail-reader/gmail_threads/2022-04-11_14-16_40.md', 'type': 'support-email', 'date': '2022-04-11 14:16:40', 'support_type': 'generic_frontend'}\n"
     ]
    },
    {
     "name": "stderr",
     "output_type": "stream",
     "text": [
      "Embedding and Storing documents to VectorDB:  83%|█████████████████████████████████████████████████████████████████████████████████████████                  | 129/155 [01:11<00:14,  1.74it/s]"
     ]
    },
    {
     "name": "stdout",
     "output_type": "stream",
     "text": [
      "Stored document with ID: doc-128 and metadata: {'source': '../gmail-reader/gmail_threads/2019-07-01_10-24_20.md', 'type': 'support-email', 'date': '2019-07-01 10:24:20', 'support_type': 'admin'}\n"
     ]
    },
    {
     "name": "stderr",
     "output_type": "stream",
     "text": [
      "Embedding and Storing documents to VectorDB:  84%|█████████████████████████████████████████████████████████████████████████████████████████▋                 | 130/155 [01:12<00:14,  1.76it/s]"
     ]
    },
    {
     "name": "stdout",
     "output_type": "stream",
     "text": [
      "Stored document with ID: doc-129 and metadata: {'source': '../gmail-reader/gmail_threads/2024-06-04_12-45_1.md', 'type': 'support-email', 'date': '2024-06-04_12-45_1', 'support_type': 'admin'}\n"
     ]
    },
    {
     "name": "stderr",
     "output_type": "stream",
     "text": [
      "Embedding and Storing documents to VectorDB:  85%|██████████████████████████████████████████████████████████████████████████████████████████▍                | 131/155 [01:12<00:14,  1.68it/s]"
     ]
    },
    {
     "name": "stdout",
     "output_type": "stream",
     "text": [
      "Stored document with ID: doc-130 and metadata: {'source': '../gmail-reader/gmail_threads/2024-05-27_09-37_4.md', 'type': 'support-email', 'date': '2024-05-27_09-37_4', 'support_type': 'generic_frontend'}\n"
     ]
    },
    {
     "name": "stderr",
     "output_type": "stream",
     "text": [
      "Embedding and Storing documents to VectorDB:  85%|███████████████████████████████████████████████████████████████████████████████████████████                | 132/155 [01:13<00:12,  1.80it/s]"
     ]
    },
    {
     "name": "stdout",
     "output_type": "stream",
     "text": [
      "Stored document with ID: doc-131 and metadata: {'source': '../gmail-reader/gmail_threads/2022-05-13_13-33_33.md', 'type': 'support-email', 'date': '2022-05-13 13:33:33', 'support_type': 'admin'}\n"
     ]
    },
    {
     "name": "stderr",
     "output_type": "stream",
     "text": [
      "Embedding and Storing documents to VectorDB:  86%|███████████████████████████████████████████████████████████████████████████████████████████▊               | 133/155 [01:13<00:12,  1.72it/s]"
     ]
    },
    {
     "name": "stdout",
     "output_type": "stream",
     "text": [
      "Stored document with ID: doc-132 and metadata: {'source': '../gmail-reader/gmail_threads/2023-10-06_14-09_24.md', 'type': 'support-email', 'date': '2023-10-06 14:09:24', 'support_type': 'admin'}\n"
     ]
    },
    {
     "name": "stderr",
     "output_type": "stream",
     "text": [
      "Embedding and Storing documents to VectorDB:  86%|████████████████████████████████████████████████████████████████████████████████████████████▌              | 134/155 [01:14<00:15,  1.38it/s]"
     ]
    },
    {
     "name": "stdout",
     "output_type": "stream",
     "text": [
      "Stored document with ID: doc-133 and metadata: {'source': '../gmail-reader/gmail_threads/2025-05-10_15-04_6.md', 'type': 'support-email', 'date': '2025-05-10_15-04_6', 'support_type': 'admin'}\n"
     ]
    },
    {
     "name": "stderr",
     "output_type": "stream",
     "text": [
      "Embedding and Storing documents to VectorDB:  87%|█████████████████████████████████████████████████████████████████████████████████████████████▏             | 135/155 [01:15<00:13,  1.49it/s]"
     ]
    },
    {
     "name": "stdout",
     "output_type": "stream",
     "text": [
      "Stored document with ID: doc-134 and metadata: {'source': '../gmail-reader/gmail_threads/2024-05-30_15-30_2.md', 'type': 'support-email', 'date': '2024-05-30_15-30_2', 'support_type': 'admin'}\n"
     ]
    },
    {
     "name": "stderr",
     "output_type": "stream",
     "text": [
      "Embedding and Storing documents to VectorDB:  88%|█████████████████████████████████████████████████████████████████████████████████████████████▉             | 136/155 [01:15<00:11,  1.59it/s]"
     ]
    },
    {
     "name": "stdout",
     "output_type": "stream",
     "text": [
      "Stored document with ID: doc-135 and metadata: {'source': '../gmail-reader/gmail_threads/2022-10-04_15-47_23.md', 'type': 'support-email', 'date': '2022-10-04 15:47:23', 'support_type': 'wizard'}\n"
     ]
    },
    {
     "name": "stderr",
     "output_type": "stream",
     "text": [
      "Embedding and Storing documents to VectorDB:  88%|██████████████████████████████████████████████████████████████████████████████████████████████▌            | 137/155 [01:16<00:11,  1.58it/s]"
     ]
    },
    {
     "name": "stdout",
     "output_type": "stream",
     "text": [
      "Stored document with ID: doc-136 and metadata: {'source': '../gmail-reader/gmail_threads/2023-04-25_16-04_40.md', 'type': 'support-email', 'date': '2023-04-25 16:04:40', 'support_type': 'admin'}\n"
     ]
    },
    {
     "name": "stderr",
     "output_type": "stream",
     "text": [
      "Embedding and Storing documents to VectorDB:  89%|███████████████████████████████████████████████████████████████████████████████████████████████▎           | 138/155 [01:17<00:10,  1.58it/s]"
     ]
    },
    {
     "name": "stdout",
     "output_type": "stream",
     "text": [
      "Stored document with ID: doc-137 and metadata: {'source': '../gmail-reader/gmail_threads/2023-01-11_17-11_10.md', 'type': 'support-email', 'date': '2023-01-11 17:11:10', 'support_type': 'admin'}\n"
     ]
    },
    {
     "name": "stderr",
     "output_type": "stream",
     "text": [
      "Embedding and Storing documents to VectorDB:  90%|███████████████████████████████████████████████████████████████████████████████████████████████▉           | 139/155 [01:17<00:09,  1.62it/s]"
     ]
    },
    {
     "name": "stdout",
     "output_type": "stream",
     "text": [
      "Stored document with ID: doc-138 and metadata: {'source': '../gmail-reader/gmail_threads/2023-10-19_18-38_23.md', 'type': 'support-email', 'date': '2023-10-19 18:38:23', 'support_type': 'generic_frontend'}\n"
     ]
    },
    {
     "name": "stderr",
     "output_type": "stream",
     "text": [
      "Embedding and Storing documents to VectorDB:  90%|████████████████████████████████████████████████████████████████████████████████████████████████▋          | 140/155 [01:18<00:10,  1.49it/s]"
     ]
    },
    {
     "name": "stdout",
     "output_type": "stream",
     "text": [
      "Stored document with ID: doc-139 and metadata: {'source': '../gmail-reader/gmail_threads/2019-11-04_21-54_17.md', 'type': 'support-email', 'date': '2019-11-04 21:54:17', 'support_type': 'wizard'}\n"
     ]
    },
    {
     "name": "stderr",
     "output_type": "stream",
     "text": [
      "Embedding and Storing documents to VectorDB:  91%|█████████████████████████████████████████████████████████████████████████████████████████████████▎         | 141/155 [01:19<00:09,  1.50it/s]"
     ]
    },
    {
     "name": "stdout",
     "output_type": "stream",
     "text": [
      "Stored document with ID: doc-140 and metadata: {'source': '../gmail-reader/gmail_threads/2023-05-08_14-23_36.md', 'type': 'support-email', 'date': '2023-05-08 14:23:36', 'support_type': 'admin'}\n"
     ]
    },
    {
     "name": "stderr",
     "output_type": "stream",
     "text": [
      "Embedding and Storing documents to VectorDB:  92%|██████████████████████████████████████████████████████████████████████████████████████████████████         | 142/155 [01:19<00:08,  1.56it/s]"
     ]
    },
    {
     "name": "stdout",
     "output_type": "stream",
     "text": [
      "Stored document with ID: doc-141 and metadata: {'source': '../gmail-reader/gmail_threads/2022-04-30_08-33_37.md', 'type': 'support-email', 'date': '2022-04-30 08:33:37', 'support_type': 'generic'}\n"
     ]
    },
    {
     "name": "stderr",
     "output_type": "stream",
     "text": [
      "Embedding and Storing documents to VectorDB:  92%|██████████████████████████████████████████████████████████████████████████████████████████████████▋        | 143/155 [01:20<00:07,  1.66it/s]"
     ]
    },
    {
     "name": "stdout",
     "output_type": "stream",
     "text": [
      "Stored document with ID: doc-142 and metadata: {'source': '../gmail-reader/gmail_threads/2022-03-13_16-17_48.md', 'type': 'support-email', 'date': '2022-03-13 16:17:48', 'support_type': 'admin'}\n"
     ]
    },
    {
     "name": "stderr",
     "output_type": "stream",
     "text": [
      "Embedding and Storing documents to VectorDB:  93%|███████████████████████████████████████████████████████████████████████████████████████████████████▍       | 144/155 [01:20<00:06,  1.66it/s]"
     ]
    },
    {
     "name": "stdout",
     "output_type": "stream",
     "text": [
      "Stored document with ID: doc-143 and metadata: {'source': '../gmail-reader/gmail_threads/2022-05-10_15-18_34.md', 'type': 'support-email', 'date': '2022-05-10 15:18:34', 'support_type': 'admin'}\n"
     ]
    },
    {
     "name": "stderr",
     "output_type": "stream",
     "text": [
      "Embedding and Storing documents to VectorDB:  94%|████████████████████████████████████████████████████████████████████████████████████████████████████       | 145/155 [01:21<00:05,  1.73it/s]"
     ]
    },
    {
     "name": "stdout",
     "output_type": "stream",
     "text": [
      "Stored document with ID: doc-144 and metadata: {'source': '../gmail-reader/gmail_threads/2023-11-14_22-12_18.md', 'type': 'support-email', 'date': '2023-11-14 22:12:18', 'support_type': 'admin'}\n"
     ]
    },
    {
     "name": "stderr",
     "output_type": "stream",
     "text": [
      "Embedding and Storing documents to VectorDB:  94%|████████████████████████████████████████████████████████████████████████████████████████████████████▊      | 146/155 [01:21<00:05,  1.80it/s]"
     ]
    },
    {
     "name": "stdout",
     "output_type": "stream",
     "text": [
      "Stored document with ID: doc-145 and metadata: {'source': '../gmail-reader/gmail_threads/2019-04-20_12-35_21.md', 'type': 'support-email', 'date': '2019-04-20 12:35:21', 'support_type': 'generic_frontend'}\n"
     ]
    },
    {
     "name": "stderr",
     "output_type": "stream",
     "text": [
      "Embedding and Storing documents to VectorDB:  95%|█████████████████████████████████████████████████████████████████████████████████████████████████████▍     | 147/155 [01:22<00:04,  1.84it/s]"
     ]
    },
    {
     "name": "stdout",
     "output_type": "stream",
     "text": [
      "Stored document with ID: doc-146 and metadata: {'source': '../gmail-reader/gmail_threads/2023-01-14_13-53_8.md', 'type': 'support-email', 'date': '2023-01-14_13-53_8', 'support_type': 'admin'}\n"
     ]
    },
    {
     "name": "stderr",
     "output_type": "stream",
     "text": [
      "Embedding and Storing documents to VectorDB:  95%|██████████████████████████████████████████████████████████████████████████████████████████████████████▏    | 148/155 [01:23<00:04,  1.46it/s]"
     ]
    },
    {
     "name": "stdout",
     "output_type": "stream",
     "text": [
      "Stored document with ID: doc-147 and metadata: {'source': '../gmail-reader/gmail_threads/2023-12-04_13-54_18.md', 'type': 'support-email', 'date': '2023-12-04 13:54:18', 'support_type': 'admin'}\n"
     ]
    },
    {
     "name": "stderr",
     "output_type": "stream",
     "text": [
      "Embedding and Storing documents to VectorDB:  96%|██████████████████████████████████████████████████████████████████████████████████████████████████████▊    | 149/155 [01:23<00:03,  1.57it/s]"
     ]
    },
    {
     "name": "stdout",
     "output_type": "stream",
     "text": [
      "Stored document with ID: doc-148 and metadata: {'source': '../gmail-reader/gmail_threads/2023-11-29_13-24_19.md', 'type': 'support-email', 'date': '2023-11-29 13:24:19', 'support_type': 'admin'}\n"
     ]
    },
    {
     "name": "stderr",
     "output_type": "stream",
     "text": [
      "Embedding and Storing documents to VectorDB:  97%|███████████████████████████████████████████████████████████████████████████████████████████████████████▌   | 150/155 [01:24<00:02,  1.68it/s]"
     ]
    },
    {
     "name": "stdout",
     "output_type": "stream",
     "text": [
      "Stored document with ID: doc-149 and metadata: {'source': '../gmail-reader/gmail_threads/2019-10-01_21-14_19.md', 'type': 'support-email', 'date': '2019-10-01 21:14:19', 'support_type': 'admin'}\n"
     ]
    },
    {
     "name": "stderr",
     "output_type": "stream",
     "text": [
      "Embedding and Storing documents to VectorDB:  97%|████████████████████████████████████████████████████████████████████████████████████████████████████████▏  | 151/155 [01:25<00:02,  1.72it/s]"
     ]
    },
    {
     "name": "stdout",
     "output_type": "stream",
     "text": [
      "Stored document with ID: doc-150 and metadata: {'source': '../gmail-reader/gmail_threads/2025-05-31_14-13_3.md', 'type': 'support-email', 'date': '2025-05-31_14-13_3', 'support_type': 'admin'}\n"
     ]
    },
    {
     "name": "stderr",
     "output_type": "stream",
     "text": [
      "Embedding and Storing documents to VectorDB:  98%|████████████████████████████████████████████████████████████████████████████████████████████████████████▉  | 152/155 [01:25<00:01,  1.79it/s]"
     ]
    },
    {
     "name": "stdout",
     "output_type": "stream",
     "text": [
      "Stored document with ID: doc-151 and metadata: {'source': '../gmail-reader/gmail_threads/2022-11-03_17-38_19.md', 'type': 'support-email', 'date': '2022-11-03 17:38:19', 'support_type': 'generic'}\n"
     ]
    },
    {
     "name": "stderr",
     "output_type": "stream",
     "text": [
      "Embedding and Storing documents to VectorDB:  99%|█████████████████████████████████████████████████████████████████████████████████████████████████████████▌ | 153/155 [01:26<00:01,  1.77it/s]"
     ]
    },
    {
     "name": "stdout",
     "output_type": "stream",
     "text": [
      "Stored document with ID: doc-152 and metadata: {'source': '../gmail-reader/gmail_threads/2022-12-20_12-56_12.md', 'type': 'support-email', 'date': '2022-12-20 12:56:12', 'support_type': 'admin'}\n"
     ]
    },
    {
     "name": "stderr",
     "output_type": "stream",
     "text": [
      "Embedding and Storing documents to VectorDB:  99%|██████████████████████████████████████████████████████████████████████████████████████████████████████████▎| 154/155 [01:26<00:00,  1.72it/s]"
     ]
    },
    {
     "name": "stdout",
     "output_type": "stream",
     "text": [
      "Stored document with ID: doc-153 and metadata: {'source': '../gmail-reader/gmail_threads/2024-10-13_11-28_27.md', 'type': 'support-email', 'date': '2024-10-13 11:28:27', 'support_type': 'admin'}\n"
     ]
    },
    {
     "name": "stderr",
     "output_type": "stream",
     "text": [
      "Embedding and Storing documents to VectorDB: 100%|███████████████████████████████████████████████████████████████████████████████████████████████████████████| 155/155 [01:27<00:00,  1.78it/s]"
     ]
    },
    {
     "name": "stdout",
     "output_type": "stream",
     "text": [
      "Stored document with ID: doc-154 and metadata: {'source': '../gmail-reader/gmail_threads/2021-11-21_21-47_54.md', 'type': 'support-email', 'date': '2021-11-21 21:47:54', 'support_type': 'admin'}\n",
      "155 documents were persisted.\n",
      "Append imported document names to lock file...\n",
      "Import completed.\n"
     ]
    },
    {
     "name": "stderr",
     "output_type": "stream",
     "text": [
      "\n"
     ]
    }
   ],
   "source": [
    "importer = Importer(reset_lock_file=True, use_local_vector_db=False)\n",
    "importer.import_docs(docs)"
   ]
  },
  {
   "cell_type": "code",
   "execution_count": 11,
   "id": "c2c48630-2e16-41dc-9716-d416f7d7a7fd",
   "metadata": {},
   "outputs": [
    {
     "data": {
      "image/png": "[encoded data removed]",
      "text/plain": [
       "<Figure size 1500x600 with 2 Axes>"
      ]
     },
     "metadata": {},
     "output_type": "display_data"
    },
    {
     "name": "stdout",
     "output_type": "stream",
     "text": [
      "Document Character Count Summary:\n",
      "Total documents: 155\n",
      "Average characters: 2119.4\n",
      "Median characters: 1265.0\n",
      "Min characters: 20\n",
      "Max characters: 19248\n",
      "Standard deviation: 2622.3\n",
      "Average tokens: 529.9\n"
     ]
    }
   ],
   "source": [
    "plot_document_character_stats()"
   ]
  },
  {
   "cell_type": "code",
   "execution_count": 16,
   "id": "21abfc91-831e-4e6a-9bb2-b717fcbfb8b7",
   "metadata": {},
   "outputs": [
    {
     "data": {
      "application/vnd.plotly.v1+json": {
       "config": {
        "plotlyServerURL": "https://plot.ly"
       },
       "data": [
        {
         "hoverinfo": "text",
         "marker": {
          "color": [
           "red",
           "green",
           "blue",
           "red",
           "red",
           "red",
           "red",
           "red",
           "red",
           "red",
           "green",
           "red",
           "red",
           "red",
           "red",
           "blue",
           "red",
           "red",
           "red",
           "red",
           "red",
           "yellow",
           "red",
           "red",
           "red",
           "blue",
           "red",
           "red",
           "red",
           "blue",
           "red",
           "green",
           "blue",
           "red",
           "red",
           "blue",
           "red",
           "red",
           "red",
           "red",
           "blue",
           "green",
           "blue",
           "red",
           "red",
           "red",
           "blue",
           "blue",
           "red",
           "red",
           "red",
           "red",
           "red",
           "red",
           "red",
           "red",
           "red",
           "red",
           "red",
           "red",
           "red",
           "red",
           "red",
           "red",
           "red",
           "red",
           "red",
           "blue",
           "red",
           "red",
           "blue",
           "red",
           "red",
           "red",
           "blue",
           "red",
           "green",
           "blue",
           "red",
           "blue",
           "red",
           "red",
           "red",
           "blue",
           "blue",
           "red",
           "red",
           "red",
           "blue",
           "red",
           "red",
           "red",
           "red",
           "red",
           "red",
           "red",
           "blue",
           "red",
           "red",
           "red",
           "red",
           "red",
           "red",
           "blue",
           "red",
           "red",
           "red",
           "blue",
           "red",
           "blue",
           "red",
           "red",
           "green",
           "red",
           "red",
           "green",
           "blue",
           "blue",
           "red",
           "red",
           "blue",
           "green",
           "red",
           "red",
           "red",
           "red",
           "blue",
           "red",
           "red",
           "blue",
           "red",
           "red",
           "red",
           "red",
           "green",
           "red",
           "red",
           "blue",
           "green",
           "red",
           "yellow",
           "red",
           "red",
           "red",
           "blue",
           "red",
           "red",
           "red",
           "red",
           "red",
           "yellow",
           "red",
           "red",
           "red"
          ],
          "opacity": 0.8,
          "size": 5
         },
         "mode": "markers",
         "text": [
          "Type: admin<br>Text: ## User\n\n```\nGuten Tag,\nich habe eben ein Event angelegt und finde den (geheimen) Einladungslink für die Teilnehmenden nicht.\nMir wurde bislang nur der Administrations-Link zugesen...",
          "Type: wizard<br>Text: ## User\n\n```\nTest\n```\n\n---\n## Assistant\n\n```\nAntwort Feedback\n```...",
          "Type: generic_frontend<br>Text: ## User\n\n```\nTest Feedback ob Mail Versand geht \n```...",
          "Type: admin<br>Text: ## User\n\n```\nDear RD Team,\nis it possible to upload the participants data? Via excel or csv file?\nThank You!\n```\n\n---\n## Assistant\n\n```\nHi Felix,\nUnfortunately this is currently no...",
          "Type: admin<br>Text: ## User\n\n```\nHi,\nich kann bei mir leider ein Team (hat abgesagt) nicht mit einem anderen Team ersetzen. Es wird nur angezeigt, dass ein unbekannter Fehler aufgetreten ist.\nWas soll...",
          "Type: admin<br>Text: ## User\n\n```\nHeyyy jo,\nich schon wieder.\nBei unserem Dinner funktioniert der Link zum Registrieren nicht mehr. Wenn ich da drauf klicke wird irgendwas gedownloaded, ne leere Datei....",
          "Type: admin<br>Text: ## User\n\n```\nHallo,\ntolles Tool!\nLeider können bei der Einstellung nur maximal 18 Leute teilnehmen - Sobald ich weitere hinzufüge landen diese auf der Warteliste. Kann man irgendwi...",
          "Type: admin<br>Text: ## User\n\n```\nHallo zusammen,\nich hätte ein sehr dringendes Anliegen.\nWir veranstalten übermorgen ein Running Dinner.\nZwei Teilnehmer konnten aber dann doch nicht teilnehmen, weshal...",
          "Type: admin<br>Text: ## User\n\n```\nlkb\n```...",
          "Type: admin<br>Text: ## User\n\n```\nHallo,\ngibt es auch die Möglichkeit 3er Teams zu bilden?\nVielen Dank & viele Grüße\nStina \n```\n\n---\n## Assistant\n\n```\nHallo Stina,\num es kurz zu machen: Nein, diese Mög...",
          "Type: wizard<br>Text: ## User\n\n```\nBei der Erstellung eines Demo-Events wird mir nsch der Seite \"Daten zur Veröffentlichung\" eine Fehlermeldung angezeigt und ich komme nicht weiter\n```\n\n---\n## Assistant...",
          "Type: admin<br>Text: ## User\n\n```\nGuten Tag,\nich habe ein Event erstellt:\nhttps://runyourdinner.eu/running-dinner-events/vRJjpVPwjF\nund kann mich auch anmelden aber ich sehe die anmeldungen nicht obwoh...",
          "Type: admin<br>Text: ## User\n\n```\nGuten Morgen!\nIch habe leider ein Problem mit der Teilnehmerliste. Es werden mir 18 TN angezeigt, davon 1 auf der Warteliste, den ich gerne hinzufügen würde. Leider wi...",
          "Type: admin<br>Text: ## User\n\n```\nHallo :) Ich habe gerade das \"All Inclujive - Running Dinner\" für den 25.03 erstellt und ich hab aber keine email bekommen. Könntet ihr mir die Mail noch mal an die ad...",
          "Type: admin<br>Text: ## User\n\n```\nHey,\nCooles Tool, danke fürs erstellen!\nKurze Frage: man muss ja bei der Registrierung als Teilnehmer seine Adresse angeben. Manchmal möchte ja jemand mit machen, aber...",
          "Type: generic_frontend<br>Text: ## User\n\n```\nTest Feedback mit MailJEt\n\n```...",
          "Type: admin<br>Text: ## User\n\n```\nHi\nI'm just trying out the demo version of the Run Your Dinner platform. When I try to create the teams, I get an \"unexpected error\"...\nKind regards\nKasper Lindoe Pede...",
          "Type: admin<br>Text: ## User\n\n```\nHallo! Wir haben eine Demo erstellt und dachten, man kann diese Demo dann freischalten. Jetzt haben wir den Link schon auf die ersten Flyer gedruckt um festzustellen, ...",
          "Type: admin<br>Text: ## User\n\n```\nHi! I was wondering if it is possible to manually allocate people to a route? I dont think we'll end up with the perfect number of people so want to put them as extras...",
          "Type: admin<br>Text: ## User\n\n```\nHallo,\nwir haben ein Dinner erstellt, wir haben auch 20 Teilnehmer:innen, allerdings werden 2 immer nur als auf der Warteliste angezeigt, obwohl sie ein Team bilden kö...",
          "Type: admin<br>Text: ## User\n\n```\nHallo :)\nDa unser erstes Running Dinner Event jetzt bald bevor steht wollte ich ein Mal nachfragen, wie das ganze jetzt abläuft. Sobald die regestrierung fertig ist, w...",
          "Type: generic<br>Text: ## User\n\n```\n<html>\n<head>\n<meta name=\"viewport\" content=\"width=device-width\">\n<meta http-equiv=\"Content-Type\" content=\"text/vnd.ui.insecure+html;charset=utf-8\">\n</head>\n<body styl...",
          "Type: admin<br>Text: ## User\n\n```\nHey,\nuns ist aufgefallen, dass die Info über Essenswünche und Einschränkungen erst in der E-Mail mit den Routen mitgeteilt wird.\nDa wir die Routen (um die Spannung auf...",
          "Type: admin<br>Text: ## User\n\n```\nHallo !\nIch organisiere ein Running Dinner mit eurer Hilfe im kleinen Lychen in Brandenburg. Danke schonmal für diese grandiose Seite!\nZwei Gastgeber von einem Team ha...",
          "Type: admin<br>Text: ## User\n\n```\nSchnelle Hilfe bitte!!\nWie kann man die Teilnehmer von der Warteliste zu den normalen Teilnehmern tun, bzw manuell deren Teams erstellen?\nLiebe Grüße! \n```\n\n---\n## Ass...",
          "Type: generic_frontend<br>Text: ## User\n\n```\nGibt es auch die Möglichkeit, dass es feste Gruppen (WGs), die sich auch als feste Gruppe anmelden gibt? Diese bleiben dann immer an einem Ort und sind Gastgeber. Der ...",
          "Type: admin<br>Text: ## User\n\n```\nHallo,\nIch habe eine Frage zu den Spracheinstellungen von Eurer Software. Kann man die Voreinstellung der Seite ändern? D.h. die Seite standartmässig auf Englisch anze...",
          "Type: admin<br>Text: ## User\n\n```\nFeebdack Test von Clemens\n```...",
          "Type: admin<br>Text: ## User\n\n```\nHey ihr lieben,\nwir haben Probleme beim Versenden der Team-Einteilung. Wenn wir auf \"Nachricht versenden\" klicken, wir angezeigt, dass ein unbekannter Fehler aufgetret...",
          "Type: generic_frontend<br>Text: ## User\n\n```\nWarum klappt das nicht?\n\n```...",
          "Type: admin<br>Text: ## User\n\n```\nHallo,\nich habe eine Frage zu der Warteliste: wir haben eine gerade Zahl von Teilnehmern an dem Running Event und trotzdem sind 6 Leute auf der Warteliste. Gibt es ein...",
          "Type: wizard<br>Text: ## User\n\n```\nSehr geehrter Herr Stich,\nIch heiße Robert Kuchen, komme aus Mainz und habe dieses und letztes Jahr bisher jeweils ein Running-Dinner-Event mit Hilfe Ihres Tools bzw. ...",
          "Type: generic_frontend<br>Text: ## User\n\n```\nHallo,\nnimmt das Programm Rücksicht auf die Distanz zwischen den Locations? Oder findet die Zuordnung völlig zufällig statt, sodass die Fahrtwege zwischen den einzelne...",
          "Type: admin<br>Text: ## User\n\n```\nHallo!\nIch wollte nachfragen wann die Gäste des Running dinners die Informationen über Allergien oder Ernährungsformen ihrer zu bekochenden Gäste erhalten?\nDie Email m...",
          "Type: admin<br>Text: ## User\n\n```\nhallo? ist da jemand?\ngibt's da keine hilfe mehr?\nich bräuchte info zu einem mögöichen listen upload...\nlg\nfelix\n\n```\n\n---\n## Assistant\n\n```\nHi Felix,\nOh ist meine Mai...",
          "Type: generic_frontend<br>Text: ## User\n\n```\nHallo :)\nist es irgendwie möglich, dass ich die Beschreibung noch einmal umändern kann?\n\n```\n\n---\n## Assistant\n\n```\nHallo,\nna klar, du kannst einfach im Hauptmenü im A...",
          "Type: admin<br>Text: ## User\n\n```\nund noch 2 Dinge wären großartig:\n1. Ich plane gerade ein mehr oder weniger privates Running Dinner, wo ich gerade zum X ten male neu \"auslose\"...\nWenn man früher Ausl...",
          "Type: admin<br>Text: ## User\n\n```\nGibt es eine Möglichkeit die Route so zu generieren sodass die Distanz zwischen den einzelnen Stationen möglichst gering ist?\nAnsonsten eine sehr schöne Anwendung\nViel...",
          "Type: admin<br>Text: ## User\n\n```\nHello,\nI've got questions about the website:\ndoes it take into account the address of the participants to match them according to the area they are living in?\nand does...",
          "Type: admin<br>Text: ## User\n\n```\nLiebes runyourdinner-Team,\nVielen Dank für die Erstellung Eurer tollen Webseite, mit der die Organisation eines Running Dinner soo viel leichter geht! =)\nIch habe nun ...",
          "Type: generic_frontend<br>Text: ## User\n\n```\nLiebes run-your-dinner Team,\nich hätte zwei grundsätzliche Fragen:\n1. Gibt es eine Maximalanzahl der Teilnehmer?\n2. Ist das Ganze kostenfrei?\nIch habe mir soeben die D...",
          "Type: wizard<br>Text: ## User\n\n```\nSchönen guten Tag,\nich würde gerne wissen, ob man im Demo-Running Dinner oder auch im richtigen die Speisen noch ändern kann, die man am Anfang eingegeben hat. Ich seh...",
          "Type: generic_frontend<br>Text: ## User\n\n```\nMeine Freund Julian und ich hatten gerade beschlossene, dass wir gerne am running Dinner teilnehmen würde, es ist jetzt aber leider schon 10 min nach Anmeldefrist. Fal...",
          "Type: admin<br>Text: ## User\n\n```\nhey,\nwir wollten nochmal das Programm testen, indem wir uns alle einmal angemeldet haben.\nNachdem ich jedoch die Teams eingeteilt hatte war es nicht mehr möglich ander...",
          "Type: admin<br>Text: ## User\n\n```\nWie funktioniert die Benachrichtigung der Teams über ihre Routen und Gast -und Gastgeberrollen ? Soll ich das als Admin von Hand in Einzelnachrichten organisieren oder...",
          "Type: admin<br>Text: ## User\n\n```\ngibt es einen \"listenupload\" für teilnehmerInnen?\nalso wenn ich ca. 150 personen in einer excelliste habe, für die ich ein RD plane...\nkann ich die irgendwie automatis...",
          "Type: generic_frontend<br>Text: ## User\n\n```\nWenn ich mich erneut anmelde, ersetzt das dann meine \"alte\" anmeldung? Ich würde gerne noch einmal etwas änder bzw. habe etwas vergessen \n```\n\n---\n## Assistant\n\n```\nHa...",
          "Type: generic_frontend<br>Text: ## User\n\n```\nHi! I would like to ask if it’s okay to join the last session only because my team partner and I have class until 9. So, it’s only possible for us to join the last des...",
          "Type: admin<br>Text: ## User\n\n```\nHallo Runyoourdinner-Team\nVielen Dank für die geniale Hilfestellung mit eurer hammer programmierten Website!\nBisher war ich nur als Teilnehmer in Freundesgruppen mit d...",
          "Type: admin<br>Text: ## User\n\n```\nHallo ihr Lieben,\naktuell kann man über euer Portal leider gar keine eMails versenden, egal über welche Funktion. Könnt ihr euch das zeitnah Mal anschauen? Wir wollten...",
          "Type: admin<br>Text: ## User\n\n```\nHey!\nIch habe heute morgen nochmal versucht die Routen zu verschicken und irgendwie scheinen die nicht durchzugehen. Ich habe zwar letzten Montag die Routen schon an a...",
          "Type: admin<br>Text: ## User\n\n```\nLiebes runyourdinner-Team,\nVielen Dank für die Erstellung Eurer tollen Webseite, mit der die Organisation eines Running Dinner soo viel leichter geht! =)\nIch habe nun ...",
          "Type: admin<br>Text: ## User\n\n```\nLiebes Team,\nich habe vor ein Running Dinner zu machen, wo alle Teams zufällig gemischt werden. Auf Grund von ein paar Begebenheiten möchte ich jedoch vereinzelt Teams...",
          "Type: admin<br>Text: ## User\n\n```\nEin Teilnehmer kann die Anmeldung nicht bestätigen, aber ich kann ihn auch nicht manuell hinzufügen. Kann man Teilnehmer wieder löschen?\nDanke!\n```\n\n---\n## Assistant\n\n...",
          "Type: admin<br>Text: ## User\n\n```\nlkb\n```...",
          "Type: admin<br>Text: ## User\n\n```\nHi, ich erstelle ein Dinner, kann ich die Public description noch im nachhinein ändern und wenn ja wie? Oder gibt es eine Funktion, dass diese auf englisch erscheint, ...",
          "Type: admin<br>Text: ## User\n\n```\nLiebe RunYourDinner-Entwickler,\nerst einmal vielen Dank für euer Online-Tool, super praktisch!\nEine Frage hätte ich jedoch: Kann man die Teilnehmerliste auf irgendeine...",
          "Type: admin<br>Text: ## User\n\n```\n... hier ist der dazugehörige Admin-Link:\nhttps://runyourdinner.eu/running-dinner-events/SS2AaK7j9k\nTausend Dank!\nCarmen \n```\n\n---\n## User\n\n```\nHallihallo!\nIch habe be...",
          "Type: admin<br>Text: ## User\n\n```\nHallo!\nErstmal danke für die tolle Plattform!\nKann ich evtl die Anmeldefrist nachträglich verkürzen?\nViele Grüße\nThomas \n```\n\n---\n## Assistant\n\n```\nHallo Thomas,\ndanke...",
          "Type: admin<br>Text: ## User\n\n```\nHey,\nich habe eine kurze Frage.\nIch überlege gerade, schon vor dem Anmeldeende die Teameinteilung durchzuführen, um zu schauen, ob es mit den bisherig angemeldeten Per...",
          "Type: admin<br>Text: ## User\n\n```\nLiebes Running Dinner Team,\nleider kann ich die Teams für mein Running Dinner diesen Freitag den 14.7. nicht mehr einsehen oder neue einteilen. Die Software scheint ve...",
          "Type: admin<br>Text: ## User\n\n```\nHi zusammen, wir würden gerne ein paar Teams löschen, leider kriegen wir aber immer eine Fehlermeldung (bei zB Jens Torchalla). Könntet ihr uns bitte kurzfristig weite...",
          "Type: admin<br>Text: ## User\n\n```\nHallo,\ndas ist ja ein tolles Tool!\nIch hab auch schon bei einem Running Dinner mitgemacht, allerdings war es dann so, dass es bei 9 Teams und 18 Teilnehmern, nur 3 Gas...",
          "Type: admin<br>Text: ## User\n\n```\nHallo zusammen,\nich habe ein Event (ursprünglich mit 3 Gängen) erstellt. Aufgrund der geringen Anmeldezahl möchten wir nun gerne auf 2 Gänge reduzieren. Ist das möglic...",
          "Type: admin<br>Text: ## User\n\n```\nHey,\nIch glaube ich habe einen bug gefunden.\nwenn man sich in einer browser-session mit cookies bei einer Veranstaltung anmeldet, sich dann wieder löscht und mit der s...",
          "Type: admin<br>Text: ## User\n\n```\nHallo liebes Team von runyourdinner,\nich bin gerade dabei, ein Running Dinner zu organisieren (Running Dinner Uniorchester Lübeck 2025, Termin 11.06.2025, 18 Teilnehme...",
          "Type: admin<br>Text: ## User\n\n```\nHi,\nI've been playing around with your site. It looks good! As I understand your site, the software behind it never puts more than 3 teams at a particular house, i.e.,...",
          "Type: generic_frontend<br>Text: ## User\n\n```\nHallo :)\nVielen Dank für die großartige Platform. Es ist schön, dass du dieses Format bereitstellst.\nBeim erstellen eines Dinners, ist mir nun aufgefallen, dass die Te...",
          "Type: admin<br>Text: ## User\n\n```\nLiebes Team,\nsowohl unsere Teilnehmer als auch ich als Administrator können die Teilnehmer nicht bestätigen (per Mail und manuell). Könnt ihr weiterhelfen?\nHerzliche G...",
          "Type: admin<br>Text: ## User\n\n```\nGuten Morgen,\nich organisiere erstmals ein Running Dinner über eure Plattform, gestern habe ich die Team-Einteilungen vorgenommen und an die TN verschickt. Danach ist ...",
          "Type: generic_frontend<br>Text: ## User\n\n```\nasdgasdgsgas\n```...",
          "Type: admin<br>Text: ## User\n\n```\nGuten Morgen,\nich organisiere erstmals ein Running Dinner über eure Plattform, gestern habe ich die Team-Einteilungen vorgenommen und an die TN verschickt. Danach ist ...",
          "Type: admin<br>Text: ## User\n\n```\nIch möchte dir sehr gerne mal rückmelden, dass ich unglaublich fasziniert bin von dieser Website! Ich bin selbst programmierer und hatte jetzt vor, für ein RD, was ich...",
          "Type: admin<br>Text: ## User\n\n```\nHallo,\nich bin gerade dabei ein Running Dinner zu planen und wollte fragen, ob es die Möglichkeit gibt als Veranstalter alle Routen aufeinmal zu sehen? Ich würde die g...",
          "Type: generic_frontend<br>Text: ## User\n\n```\nHallo!\nWas ist mit Anzahl Plätze gemeint? Wie viele Leute wir bei uns unterbringen können, oder wie viele von uns teilnehmen?\nIch möchte gerne mit meinem Mitbewohner t...",
          "Type: admin<br>Text: ## User\n\n```\nHey,\nich bekomme leider keinen Link zugeschickt um das Dinner zu aktivieren. Könnt ihr mir da weiterhelfen?\nViele Grüße und vielen Dank!\nPaul\n```\n\n---\n## Assistant\n\n``...",
          "Type: wizard<br>Text: ## User\n\n```\nLeider kann ich das Dinner nicht fertig stellen.\n```\n\n---\n## Assistant\n\n```\nHallo Rebecca,\ndas ist ja schade. Siehst du eine Fehlermeldung oder etwas in der Art? Bzw.\n...",
          "Type: generic_frontend<br>Text: ## User\n\n```\nHallo,\nich würde gern am Running Dinner teilnehmen, wohne aber in Lörzweiler.\nViele Grüße\nJulia Adams\n```\n\n---\n## Assistant\n\n```\nHallo Julia,\nsorry für die späte Rückm...",
          "Type: admin<br>Text: ## User\n\n```\nIch bekomme seit einiger Zeit nur die Meldung \"Eingehender Request war fehlerhaft, bitte versuche es später erneut\".\nIch wollte die Teameinteilung heute noch an die Te...",
          "Type: generic_frontend<br>Text: ## User\n\n```\nHallo, ich wohne direkt am Rande der KTV (Schröderstraße) und würde gerne mitmachen. Geht das oder muss es auf jeden Fall direkt in der KTV sein?\nDanke und Grüße\nNina\n...",
          "Type: admin<br>Text: ## User\n\n```\nHallo zusammen!\nIch bin wirklich sehr zufrieden mit dieser Software und dem kostenlosen Service zur Durchführung eines Running Dinners! Ich mache das jetzt mit Freunde...",
          "Type: admin<br>Text: ## User\n\n```\nHey Clemens!\nWir verwenden mal wieder dein tolles Tool, um ein Running Dinner zu organisieren. Ich habe Probleme beim Verschicken der Mail zur Routenplanung. Liegt es ...",
          "Type: admin<br>Text: ## User\n\n```\nHi! Wie kann ich die Teams anders zuteilen? Also bei zufällig zugeteilten Teams die Partner tauschen z.B.?\nVielen Dank für eure Hilfe!\nLiebe Grüße\nLuisa \n```\n\n---\n## A...",
          "Type: generic_frontend<br>Text: ## User\n\n```\nHallo,\ndie neue Oberfläche sieht sehr gut aus. Danke dafür!\nIch habe eine kurze Frage. Ist die Teilnehmerzahl immer noch auf 24 TeilnehmerInnen begrenzt? Kann man das ...",
          "Type: generic_frontend<br>Text: ## User\n\n```\nHey, vielen Dank für eure großartige Website!\nLeider bekommen alle meine Gäste, sowohl auf dem Handy als auch auf dem Laptop, beim Anmelden einen Fehler. Zwei rote Käs...",
          "Type: admin<br>Text: ## User\n\n```\nHi all,\nIs there a way to set the max number of participants and set also the waiting list?\nWe plan to have max 48 participants (24 couples), and afterwards they will ...",
          "Type: admin<br>Text: ## User\n\n```\nHey Clemens,\nich bin's mal wieder :) leider gab's bei den Mails, die ich fürs Running Dinner am 15.06 raussenden wollte, Probleme, sodass 55 Mails nicht gesendet werde...",
          "Type: admin<br>Text: ## User\n\n```\nHallo liebes Runyourdinner-Team,\nich nutze diese Seite jetzt schon zum 3. Mal und bin nach wie vor begeistert! Mit 30 Freunden machen wir einmal im Jahr dieses Running...",
          "Type: generic_frontend<br>Text: ## User\n\n```\nHallo ich hab für Samstag Abend einen Termin gebucht, habe jedoch was andres vor. Kann man den Termin auch stonieren?\nVielen Dank schon einmal für die Antwort.\nGrüße J...",
          "Type: admin<br>Text: ## User\n\n```\nHallo,\nich habe eine Frage zur \"Teamgröße\"  diese ist leider auf 2 Personen festgelegt und kann nicht verändert werden.\nIn unserem Falle melden sich wahrscheinlich Fam...",
          "Type: admin<br>Text: ## User\n\n```\nIch habe eine Dinnereinladung erstellt und alles bestätigt. Wie kann ich nun Einladungen an potentielle Teilnehmer verschicken?\n```\n\n---\n## User\n\n```\nich kann keine Na...",
          "Type: admin<br>Text: ## User\n\n```\nLiebes runyourdinner-Team,\nwo kann ich denn manuell Teilnehmer*innen zu meinem Event hinzufügen?\nZusätzlich erhält eine Freundin von mir eine  Fehlermeldung (unbekannt...",
          "Type: admin<br>Text: ## User\n\n```\nHallo liebes Runyourdinner Team,\nwir nutzen den wizard jetzt schon zum zweiten Mal und ich bin rundum zufrieden. Eine kleine Sache hätte ich gerne: wir wollen 4 Gänge ...",
          "Type: admin<br>Text: ## User\n\n```\nHey!\nIch habe gerade 2x versucht die e-mails rauszuschicken aber die scheinen nicht durchzugehen. Wüssten Sie an was das liegen kann?\nDas Tool ist wirklich super, viel...",
          "Type: admin<br>Text: ## User\n\n```\nHi!\nWir haben ein privates Running Dinner angelegt für unsere Uni in Kuchl/Salzburg. Folgendes funktioniert aktuell nicht:\nEs werden keine Mails für die abschließende ...",
          "Type: admin<br>Text: ## User\n\n```\nHallo, danke für die super gute Software! Dank euch gibt es bald das erste running dinner in zwolle in den Niederlanden. Mal sehen ob es sich durchsetzt :)\nLiebe Grüße...",
          "Type: generic_frontend<br>Text: ## User\n\n```\nHallo liebes Team,\nich habe leider gerade den Administrationslink für mein running Dinner gelöscht... Ich bin aber der Veranstalter und bräuchte Ihn dringend wieder. K...",
          "Type: admin<br>Text: ## User\n\n```\nHallo liebes Team von runyourdinner,\nich bin gerade dabei, ein Running Dinner zu organisieren (Running Dinner Uniorchester Lübeck 2025, Termin 11.06.2025, 18 Teilnehme...",
          "Type: admin<br>Text: ## User\n\n```\nHallo zusammen,\nich möchte gerne ein Running Dinner für meinen Masterstudiengang organisieren. Ich vermute, dass ca. 40 - 50 Personen teilnehmen werden.\nIst es möglich...",
          "Type: admin<br>Text: ## User\n\n```\nLiebes Team,\nich habe soeben die Routen über den Verteiler verschickt, jetzt wird mir angezeigt, dass nicht alle Mails an alle Teilnehmer verschickt werden konnten. Ka...",
          "Type: admin<br>Text: ## User\n\n```\nHallo liebes Run-Your-Dinner Team! Ich mache jetzt mit meinem Freundeskreis zum 4. Mal das Running-Dinner über Ihre Website. Das ist wirklich super! Eine Frage bleibt ...",
          "Type: admin<br>Text: ## User\n\n```\nDear Sir or Madam,\nI am interested to use this website for a running dinner in France.\nHowever, the site does not allow to enter a French adress. And I believe that th...",
          "Type: admin<br>Text: ## User\n\n```\nIst es möglich die Teams selber einzuteilen. Und wie mach ich es wenn ich von jedem Team nur eine Mail-Adresse habe?\n\n```\n\n---\n## Assistant\n\n```\nHallo Moritz,\nalso pri...",
          "Type: generic_frontend<br>Text: ## User\n\n```\nHallo! Mein Wunschpartner kann doch nicht teilnehmen, ich würde also gerne mit Daria.kunst@t-online.de zusammen kochen! Danke\n```\n\n---\n## Assistant\n\n```\nHi Nicole,\ndu ...",
          "Type: admin<br>Text: ## User\n\n```\nSehr geehrte Damen und Herren,\nLeider funktioniert die Teameinteilungs-Änderung per drag und drop nicht. Der Name wird zwar mitgezogen, aber kann nicht an gewünschter ...",
          "Type: admin<br>Text: ## User\n\n```\nemailadresse vorher war falsch habe ich im letzten moment gesehen!\nfrage wegen listenupload? gibt es das?\nlg\nfelix frey\n```...",
          "Type: admin<br>Text: ## User\n\n```\nHallo zusammen,\nwir würden gerne das Tool für unser großes Event in Hannover nutzen. Ist es auf einer weise möglich, sich auch als Team anzumelden und das man jedes Te...",
          "Type: generic_frontend<br>Text: ## User\n\n```\nI would like to cancel my registration. Thanks\n```\n\n---\n## Assistant\n\n```\nHi,\nIf you would like to cancel your registration you have to contact the\nactual organizer of...",
          "Type: admin<br>Text: ## User\n\n```\nhilfe! wie kann ich meinen event editieren?\n```\n\n---\n## User\n\n```\nhabs gefunden. Vielen Dank!!!!!!\ncoole software!\n```\n\n---\n## Assistant\n\n```\nHi,\ndanke für das Feedbac...",
          "Type: generic_frontend<br>Text: ## User\n\n```\nHey\nBesteht die Möglichkeit sich nur in 2er Teams anmelden zu können?\nMega Dank, für die coole Seite.\nMfg Hannes\n```\n\n---\n## Assistant\n\n```\nHallo,\ndu meinst wahrschein...",
          "Type: admin<br>Text: ## User\n\n```\nLiebes run-your-dinner Team,\nalso bis jetzt läuft alles super und es gab noch keinerlei Probleme. Wir haben aktuell so ca. um die 50 Teilnehmer:innen. Das Einzige, das...",
          "Type: admin<br>Text: ## User\n\n```\nHallo,\nich wollte mal fragen, ob der Algorithmus kürztmöglichste Wege für die Teams raussucht und darüber hinaus auch noch fragen, ob es möglich ist eine finale Locati...",
          "Type: wizard<br>Text: ## User\n\n```\nHello\nWhen we try sending a message with the instructions from the demo to the  participants but the email comes out in German - even though we clicked English. Can yo...",
          "Type: admin<br>Text: ## User\n\n```\nHi,\nI thought you might be interested to learn that I'm also working on a similar problem, for which I'm writing an iPhone app.\nI have a short demo of the current stat...",
          "Type: admin<br>Text: ## User\n\n```\nHello,\nWhat a great app! We would like to know if it is possible to generate a mix of participants per course to avoid duos for the entire dinner.\nWe mean: per househo...",
          "Type: wizard<br>Text: ## User\n\n```\nHallo zusammen,\nich möchte gerne ein Running Dinner Event organisieren.\nWelche Vorteile bietet mir Ihre Anwendung?\nEntstehen Kosten?\nWelcher Export wird aus dem Tool g...",
          "Type: generic_frontend<br>Text: ## User\n\n```\nHallo, ich habe mich für das Event „Psycho Kochen“ angemeldet. Mir ist aber versehentlich ein Tippfehler bei Angabe der E-Mail - Adresse meiner Wunschpartnerin unterla...",
          "Type: generic_frontend<br>Text: ## User\n\n```\nHi,\nkurze Frage.\nKann man sich wünschen, Zu welcher der 3 Teile man Gastgeber ist?\nViele Grüße\nTillmann\nWunsch wäre Vor oder Nachspeise 😊\n```\n\n---\n## Assistant\n\n```\nHa...",
          "Type: admin<br>Text: ## User\n\n```\nHi!\nSince yesterday our Teams tab stopped working  - is there any way for you to check this and get it back running ?\nI noticed that some people that wanted to be in t...",
          "Type: admin<br>Text: ## User\n\n```\nDanke für diese tolle website und die Möglichkeit der kostenfreien Nutzung. Dies hat unserem Verein die Chance gegeben ein solches Dinner zu veranstalten.\nNun wollten ...",
          "Type: generic_frontend<br>Text: ## User\n\n```\nHallo! Ich habe mich vor ein paar Tagen zum Running Dinner angemeldet aber noch keine Bestätigungsmail erhalten. Hat alles geklappt?\nLiebe Grüße,\nJohanna Pervelz & Mor...",
          "Type: wizard<br>Text: ## User\n\n```\nTest from dev.runyourdinner.eu\n```...",
          "Type: admin<br>Text: ## User\n\n```\nHallo,\nich habe folgendes Event erstellt: https://runyourdinner.eu/running-dinner-events/CvutDTsm1u\nAllerdings wurde mir nun schon von zwei Personen/Paaren gesagt, das...",
          "Type: admin<br>Text: ## User\n\n```\nGuten Tag liebes Team,\nIch habe vor kurzem ein Event erstellt. Die Anmeldephase ist auch schon vorbei. Wie geht es jetzt weiter? Muss ich die Nachrichten an die Teilne...",
          "Type: admin<br>Text: ## User\n\n```\nWir haben jetzt 9 Teams. Es sind noch 6 Personen (3 Paare) auf der Warteliste. Warum können diese nicht aktiviert werden?\nLG, Oliver Bloemkolk\n```\n\n---\n## Assistant\n\n`...",
          "Type: admin<br>Text: ## User\n\n```\nEs wäre toll, wenn man die Partnersuche deaktivieren könnte.\nIch möchte die Anmeldung außschließlich für 2er Teams ermöglichen.\nDann verwiren die Felder dazu bei der R...",
          "Type: generic_frontend<br>Text: ## User\n\n```\nHi,\nBeim Einfügen der Eventbeschreibung wird (bei mir) anscheinend ein \"\n\"-Tag zu viel oder zu spät generiert.\n```\n\n---\n## Assistant\n\n```\nHi,\ndanke für die Info!\nKanns...",
          "Type: admin<br>Text: ## User\n\n```\nHallo,\nsuper Sache dein Programm :) ich habe nur gerade ein Problem, und zwar will es die Mails für die Dinner-Routen an manche Teams nicht verschicken. Der Versand an...",
          "Type: admin<br>Text: ## User\n\n```\nHi,\nleider habe ich seit heute Morgen fortlaufend Probleme mein Running Dinner Event aufzurufen. Auch meine Kollegen oder die Nutzung anderer Browser konnten das Probl...",
          "Type: generic_frontend<br>Text: ## User\n\n```\nMoin moin,\nIch bräuchte einmal kurz Hilfe bei der Anmeldung und zwar ich hab ein event mit  euer Website organisiert, habe aber kein Zugang als Organisator. Kann man d...",
          "Type: admin<br>Text: ## User\n\n```\nHallo,\nwir haben eine Veranstaltung geplant und kriegen bei den Teilnehmenden aber leider die Rückmeldung, dass diese bei der Anmeldung eine Fehlermeldung bekommen. Wo...",
          "Type: admin<br>Text: ## User\n\n```\nHallo,\nerstmal ist es toll, dass es eine so schöne Sache frei verfügbar gibt.\nLeider gibt es keine Möglichkeit manuell als Administrator die Teams und vorallem die Din...",
          "Type: admin<br>Text: ## User\n\n```\nMoin,\nerstmal danke für die tolle Plattform, hat in der Vergangenheit immer alles top geklappt. Nun kommt allerdings, wenn ich auf den Teams-Reiter gehe, immer die Feh...",
          "Type: admin<br>Text: ## User\n\n```\nLiebes runyourdinner Team,\nich kann leider keine Teams bearbeiten oder kreieren. Es kommt immer der Hinweis oben in der Mitte der Webseite in rot \"Ein unerwarteter Feh...",
          "Type: wizard<br>Text: ## User\n\n```\nGuten Tag,\ngibt es eine Möglichkeit, die Teamgröße zu verändern?\nMit lieben Grüßen\nChristian Henniger\n```\n\n---\n## Assistant\n\n```\nHallo Christian,\nleider nein, die Team...",
          "Type: admin<br>Text: ## User\n\n```\nHallo,\nwie andere ich die öffentliche Beschreibung nach Erstellung des Events?\nLg Vanessa\n```\n\n---\n## Assistant\n\n```\nHi Vanessa,\ndas geht relativ einfach in dem du im ...",
          "Type: admin<br>Text: ## User\n\n```\nHallo zusammen,\nwir möchten Eure Running Dinner Seite nutzen und haben schon einiges aufgesetzt. Leider funktioniert die \"Wunschpartner deaktivieren\" Funktion nicht, a...",
          "Type: generic_frontend<br>Text: ## User\n\n```\nHallo, ich habe leider den Admin-Link zum Running Dinner, das ich organisiere verloren. Könntet ihr ihn mir nochmal zuschicken, bitte? Danke!\nLiebe Grüße\nLena \n```\n\n--...",
          "Type: wizard<br>Text: ## User\n\n```\nT§est TEst\n```\n\n---\n## Assistant\n\n```\nAntwort\n```...",
          "Type: admin<br>Text: ## User\n\n```\nHallo! Wenn ein Kochteam sich zusammen anmelden will, müssen dann beide dieselbe Adresse angeben, die als Hostadresse gelten soll? Also wenn Person A und B bei Person ...",
          "Type: generic<br>Text: ## User\n\n```\nSehr geehrte Damen und Herren,\nvielen Dank f?r Ihre Nachricht.\nIch bin bis einschlie?lich 03.05.2022 nicht erreichbar.\nIhre E-Mail wird in dieser Zeit nicht gelesen od...",
          "Type: admin<br>Text: ## User\n\n```\nFeedback Test Clemens\nNeuer Absatz Test\n```...",
          "Type: admin<br>Text: ## User\n\n```\nHallo,\nwie sieht das Anmeldungsformular aus, wo die Teilnehmer ihre Daten eingeben? Kann man das vorher bearbeiten?\nLiebe Grüße\nHanna\n```\n\n---\n## Assistant\n\n```\nHallo ...",
          "Type: admin<br>Text: ## User\n\n```\nHi liebe runyourdinner-team,\nich kriege leider momentan immer einen \"unbekannten Fehler\" wenn ich als Admin die Teilnehmer verwalten möchte/auf das Tab gehe.\nAndere Fr...",
          "Type: generic_frontend<br>Text: ## User\n\n```\nKann mich leider nicht anmelden, da meine E-Mail-Adresse als bereits registriert gilt - verwirrend\n```\n\n---\n## Assistant\n\n```\nHallo,\nalso technisch kann ich nachvollzi...",
          "Type: admin<br>Text: ## User\n\n```\nHallo :)\nIch hab leider eine falsche email Adresse für das event \"All Inclujive - Running Dinner\" am 25.03 angegeben. Kann man das noch umändern oder muss ich das Even...",
          "Type: admin<br>Text: ## User\n\n```\nGuten Tag,\ndie Teilnehmer berichten, dass bei der Anmeldung ein Hinweis kommt, dass sich der Teampartner nicht auch noch anmelden muss, sondern diese/r automatisch mit...",
          "Type: admin<br>Text: ## User\n\n```\nHallo zusammen,\nich finde es echt super, dass ihr die Platform gebaut habt! Ist super gelungen. Ich hab in der Vergangenheit selber Running Dinners organisiert. Meine ...",
          "Type: admin<br>Text: ## User\n\n```\nHallo liebes RYD-Team!\nErstmal möchte ich Euch für diese super Seite loben! Das Tool ist der Wahnsinn! Wir wollen mit Freunden ein privates Running-Dinner veranstalten...",
          "Type: admin<br>Text: ## User\n\n```\nHallo! Wir haben eine Demo erstellt und dachten, man kann diese Demo dann freischalten. Jetzt haben wir den Link schon auf die ersten Flyer gedruckt um festzustellen, ...",
          "Type: generic<br>Text: ## User\n\n```\n<html>\n<head>\n<meta name=\"viewport\" content=\"width=device-width\">\n<meta http-equiv=\"Content-Type\" content=\"text/vnd.ui.insecure+html;charset=utf-8\">\n</head>\n<body styl...",
          "Type: admin<br>Text: ## User\n\n```\nHallo, ich bekomme keine Bestätigungsmail, sodass der Nachrichtenverkehr aktiviert wird.\n```\n\n---\n## Assistant\n\n```\nHi Jutta,\nkann es sein, dass du das Problem selbst ...",
          "Type: admin<br>Text: ## User\n\n```\nMoin, wir sind mitten in der Anmeldephase. Kann ich als admin teams manuel zuordnen? Es gibt Befindlichkeiten, die ich gerne berücksichtigen möchte.\nLiebe Grüße, Carl\n...",
          "Type: admin<br>Text: ## User\n\n```\nHallo,\nerst einmal Danke für das Tool!\nGibt es die Möglichkeit manuell noch Änderungen vorzunehmen. Beispielsweise möchte ein Team unbedingt die Hauptspeise machen.\nEs..."
         ],
         "type": "scatter",
         "x": {
          "bdata": "j0rJQLPNicBcaqu/MRmAQBByy79G6Ua/o8bIwJZB176tzNLAjoU+wUL58kBnrKtABkCIvrTp4UB/JQPBmmXBv4mcAUEPXwBBIRsMQY5oqsAE+KXANK0MvjphokBwOQ1AhD+0wDlf+8DbYeO9M4RDwCueC74eAi3AhFiUwN8vaEDwQtbA120TwLXPFEA1QffApHf6P/9twcAhhBtBcQxlwMviBcF8GIbAxVgCQcR0NsB4aYzAfktKQIucpED0Wi1Bs800wN3VYkAkVpvAcQxlwMSZCcF3cIRArczSwJRvCkAPPElASKW2v3LHkEBwqx4/sIZQP68PZr67bprAfrSowO7CAEBFlMY/+xYvQRGxC8Fqx4RAVc2Jv885xMCHx4m/9By6v0hsqcACdjhBH2a2Pwb1ob/hE+lAFJtWP+amFkFnqHTABwfmPzfqH8Ftyeq/34Acv6l020CRvUpAlcVSwPFeGUH66eLAykqrQLKqPUABHLnAoYKcvmsV6EBSpkzAn/gbQEWUxj90nRnAh4OHQMotesCcrA/B94wZwYbnCEGC6dS8s4K6P+foCsEcXjJB6OpdQMgKH8H6STrAvXzKPgqR8kABWSdB+gUfQQw+w8B6CQxBuwfdQJDiBUEoSJBANBbNQAdRn8A4cOY/zlRRwHjgkMDBGjbB0ppbwH3B6T+89RpA5LyYQKoRoD9GCzK/os0cv9Jbkz/vjjfBpJMnQL7WPT9PKwm/vFqSwCgS/D6VU4NAa0w3wG5U6z8ohVy/WuA+QCO3iUCU9SzBROvnvyU8AcFXXwBBwXrJvQBFR0C6ySXB4QKowA==",
          "dtype": "f4"
         },
         "y": {
          "bdata": "CyhFQMn2WkH7pVpBSrIvwd1zi0DpaPJAJ4k/v+eAoT6OE4RBVmIWQAezfj/cRg5AA3A0QMipG0FcAPi/2tpaQVf+/cBZlz6/5h/VwDHhAD+s2NZAsT6BQT3rRcCF8pzAlHSiP8KCR0A2kjXB+pdxQQToFsHpsUFB9/GRP4ictsCvdybBtMLSwAR2C8FvNDs/8OUGwcffG8HcXcfAsEaCwFAUzcDi3aXAnBy/QNg4AkD0FlJAvMkiwSmj+kBNBIfAwE4MwXNil0C9BgNBsEaCwD94nT+zHC9AjhOEQZ3sHUHg2vrA0kbGv5BcJ0GXvcjA1ecDQBfAhECcwczAQFs2wAm90MAmTltA6cIPwWRcn8BKm3VADkhjwOA9dUFvS2PA8+sewRCCvUD9OHM/pUXtvwu94kDM+LlAmKGXQKn3wEB4kvLAQiZZv/2m9j99AFw/rWUOQbA1JMHSRok+aKzewDS990AMTFK/FOpaQCwjLkD2g+PAVYlNQTtcCUE32TrBvcSOQCZOW0Dms3e/QRTQPolDB8G/OvBAEQ8UPcmhqED0d9+/zkJPQd2Xy7+1eGTAlVULQQwEm79O6KrAZqTzwMxAuMDD8gfBumf9wM1Bg8CghF5AeNLRQGBX3sDp+Pi/W/yeQOYsdkGkn7HA3sewQATe9D2ewna/60HYv+YndT94gz/AB422QEmDt0Do8rfAfhSoQHkydsBy7xFAhiwXQUGNTD6xnhi/l5lWQUhbkMAF7UdBbRJoQRsp9ECjdMw/yoiVv4Zk60DuXwHAHzQEwYtvqcCYoT6/vVCBQQ+zvECojGc/+SP6vw==",
          "dtype": "f4"
         }
        }
       ],
       "layout": {
        "height": 768,
        "margin": {
         "b": 10,
         "l": 10,
         "r": 20,
         "t": 40
        },
        "scene": {
         "xaxis": {
          "title": {
           "text": "x"
          }
         },
         "yaxis": {
          "title": {
           "text": "y"
          }
         }
        },
        "template": {
         "data": {
          "bar": [
           {
            "error_x": {
             "color": "#2a3f5f"
            },
            "error_y": {
             "color": "#2a3f5f"
            },
            "marker": {
             "line": {
              "color": "#E5ECF6",
              "width": 0.5
             },
             "pattern": {
              "fillmode": "overlay",
              "size": 10,
              "solidity": 0.2
             }
            },
            "type": "bar"
           }
          ],
          "barpolar": [
           {
            "marker": {
             "line": {
              "color": "#E5ECF6",
              "width": 0.5
             },
             "pattern": {
              "fillmode": "overlay",
              "size": 10,
              "solidity": 0.2
             }
            },
            "type": "barpolar"
           }
          ],
          "carpet": [
           {
            "aaxis": {
             "endlinecolor": "#2a3f5f",
             "gridcolor": "white",
             "linecolor": "white",
             "minorgridcolor": "white",
             "startlinecolor": "#2a3f5f"
            },
            "baxis": {
             "endlinecolor": "#2a3f5f",
             "gridcolor": "white",
             "linecolor": "white",
             "minorgridcolor": "white",
             "startlinecolor": "#2a3f5f"
            },
            "type": "carpet"
           }
          ],
          "choropleth": [
           {
            "colorbar": {
             "outlinewidth": 0,
             "ticks": ""
            },
            "type": "choropleth"
           }
          ],
          "contour": [
           {
            "colorbar": {
             "outlinewidth": 0,
             "ticks": ""
            },
            "colorscale": [
             [
              0,
              "#0d0887"
             ],
             [
              0.1111111111111111,
              "#46039f"
             ],
             [
              0.2222222222222222,
              "#7201a8"
             ],
             [
              0.3333333333333333,
              "#9c179e"
             ],
             [
              0.4444444444444444,
              "#bd3786"
             ],
             [
              0.5555555555555556,
              "#d8576b"
             ],
             [
              0.6666666666666666,
              "#ed7953"
             ],
             [
              0.7777777777777778,
              "#fb9f3a"
             ],
             [
              0.8888888888888888,
              "#fdca26"
             ],
             [
              1,
              "#f0f921"
             ]
            ],
            "type": "contour"
           }
          ],
          "contourcarpet": [
           {
            "colorbar": {
             "outlinewidth": 0,
             "ticks": ""
            },
            "type": "contourcarpet"
           }
          ],
          "heatmap": [
           {
            "colorbar": {
             "outlinewidth": 0,
             "ticks": ""
            },
            "colorscale": [
             [
              0,
              "#0d0887"
             ],
             [
              0.1111111111111111,
              "#46039f"
             ],
             [
              0.2222222222222222,
              "#7201a8"
             ],
             [
              0.3333333333333333,
              "#9c179e"
             ],
             [
              0.4444444444444444,
              "#bd3786"
             ],
             [
              0.5555555555555556,
              "#d8576b"
             ],
             [
              0.6666666666666666,
              "#ed7953"
             ],
             [
              0.7777777777777778,
              "#fb9f3a"
             ],
             [
              0.8888888888888888,
              "#fdca26"
             ],
             [
              1,
              "#f0f921"
             ]
            ],
            "type": "heatmap"
           }
          ],
          "histogram": [
           {
            "marker": {
             "pattern": {
              "fillmode": "overlay",
              "size": 10,
              "solidity": 0.2
             }
            },
            "type": "histogram"
           }
          ],
          "histogram2d": [
           {
            "colorbar": {
             "outlinewidth": 0,
             "ticks": ""
            },
            "colorscale": [
             [
              0,
              "#0d0887"
             ],
             [
              0.1111111111111111,
              "#46039f"
             ],
             [
              0.2222222222222222,
              "#7201a8"
             ],
             [
              0.3333333333333333,
              "#9c179e"
             ],
             [
              0.4444444444444444,
              "#bd3786"
             ],
             [
              0.5555555555555556,
              "#d8576b"
             ],
             [
              0.6666666666666666,
              "#ed7953"
             ],
             [
              0.7777777777777778,
              "#fb9f3a"
             ],
             [
              0.8888888888888888,
              "#fdca26"
             ],
             [
              1,
              "#f0f921"
             ]
            ],
            "type": "histogram2d"
           }
          ],
          "histogram2dcontour": [
           {
            "colorbar": {
             "outlinewidth": 0,
             "ticks": ""
            },
            "colorscale": [
             [
              0,
              "#0d0887"
             ],
             [
              0.1111111111111111,
              "#46039f"
             ],
             [
              0.2222222222222222,
              "#7201a8"
             ],
             [
              0.3333333333333333,
              "#9c179e"
             ],
             [
              0.4444444444444444,
              "#bd3786"
             ],
             [
              0.5555555555555556,
              "#d8576b"
             ],
             [
              0.6666666666666666,
              "#ed7953"
             ],
             [
              0.7777777777777778,
              "#fb9f3a"
             ],
             [
              0.8888888888888888,
              "#fdca26"
             ],
             [
              1,
              "#f0f921"
             ]
            ],
            "type": "histogram2dcontour"
           }
          ],
          "mesh3d": [
           {
            "colorbar": {
             "outlinewidth": 0,
             "ticks": ""
            },
            "type": "mesh3d"
           }
          ],
          "parcoords": [
           {
            "line": {
             "colorbar": {
              "outlinewidth": 0,
              "ticks": ""
             }
            },
            "type": "parcoords"
           }
          ],
          "pie": [
           {
            "automargin": true,
            "type": "pie"
           }
          ],
          "scatter": [
           {
            "fillpattern": {
             "fillmode": "overlay",
             "size": 10,
             "solidity": 0.2
            },
            "type": "scatter"
           }
          ],
          "scatter3d": [
           {
            "line": {
             "colorbar": {
              "outlinewidth": 0,
              "ticks": ""
             }
            },
            "marker": {
             "colorbar": {
              "outlinewidth": 0,
              "ticks": ""
             }
            },
            "type": "scatter3d"
           }
          ],
          "scattercarpet": [
           {
            "marker": {
             "colorbar": {
              "outlinewidth": 0,
              "ticks": ""
             }
            },
            "type": "scattercarpet"
           }
          ],
          "scattergeo": [
           {
            "marker": {
             "colorbar": {
              "outlinewidth": 0,
              "ticks": ""
             }
            },
            "type": "scattergeo"
           }
          ],
          "scattergl": [
           {
            "marker": {
             "colorbar": {
              "outlinewidth": 0,
              "ticks": ""
             }
            },
            "type": "scattergl"
           }
          ],
          "scattermap": [
           {
            "marker": {
             "colorbar": {
              "outlinewidth": 0,
              "ticks": ""
             }
            },
            "type": "scattermap"
           }
          ],
          "scattermapbox": [
           {
            "marker": {
             "colorbar": {
              "outlinewidth": 0,
              "ticks": ""
             }
            },
            "type": "scattermapbox"
           }
          ],
          "scatterpolar": [
           {
            "marker": {
             "colorbar": {
              "outlinewidth": 0,
              "ticks": ""
             }
            },
            "type": "scatterpolar"
           }
          ],
          "scatterpolargl": [
           {
            "marker": {
             "colorbar": {
              "outlinewidth": 0,
              "ticks": ""
             }
            },
            "type": "scatterpolargl"
           }
          ],
          "scatterternary": [
           {
            "marker": {
             "colorbar": {
              "outlinewidth": 0,
              "ticks": ""
             }
            },
            "type": "scatterternary"
           }
          ],
          "surface": [
           {
            "colorbar": {
             "outlinewidth": 0,
             "ticks": ""
            },
            "colorscale": [
             [
              0,
              "#0d0887"
             ],
             [
              0.1111111111111111,
              "#46039f"
             ],
             [
              0.2222222222222222,
              "#7201a8"
             ],
             [
              0.3333333333333333,
              "#9c179e"
             ],
             [
              0.4444444444444444,
              "#bd3786"
             ],
             [
              0.5555555555555556,
              "#d8576b"
             ],
             [
              0.6666666666666666,
              "#ed7953"
             ],
             [
              0.7777777777777778,
              "#fb9f3a"
             ],
             [
              0.8888888888888888,
              "#fdca26"
             ],
             [
              1,
              "#f0f921"
             ]
            ],
            "type": "surface"
           }
          ],
          "table": [
           {
            "cells": {
             "fill": {
              "color": "#EBF0F8"
             },
             "line": {
              "color": "white"
             }
            },
            "header": {
             "fill": {
              "color": "#C8D4E3"
             },
             "line": {
              "color": "white"
             }
            },
            "type": "table"
           }
          ]
         },
         "layout": {
          "annotationdefaults": {
           "arrowcolor": "#2a3f5f",
           "arrowhead": 0,
           "arrowwidth": 1
          },
          "autotypenumbers": "strict",
          "coloraxis": {
           "colorbar": {
            "outlinewidth": 0,
            "ticks": ""
           }
          },
          "colorscale": {
           "diverging": [
            [
             0,
             "#8e0152"
            ],
            [
             0.1,
             "#c51b7d"
            ],
            [
             0.2,
             "#de77ae"
            ],
            [
             0.3,
             "#f1b6da"
            ],
            [
             0.4,
             "#fde0ef"
            ],
            [
             0.5,
             "#f7f7f7"
            ],
            [
             0.6,
             "#e6f5d0"
            ],
            [
             0.7,
             "#b8e186"
            ],
            [
             0.8,
             "#7fbc41"
            ],
            [
             0.9,
             "#4d9221"
            ],
            [
             1,
             "#276419"
            ]
           ],
           "sequential": [
            [
             0,
             "#0d0887"
            ],
            [
             0.1111111111111111,
             "#46039f"
            ],
            [
             0.2222222222222222,
             "#7201a8"
            ],
            [
             0.3333333333333333,
             "#9c179e"
            ],
            [
             0.4444444444444444,
             "#bd3786"
            ],
            [
             0.5555555555555556,
             "#d8576b"
            ],
            [
             0.6666666666666666,
             "#ed7953"
            ],
            [
             0.7777777777777778,
             "#fb9f3a"
            ],
            [
             0.8888888888888888,
             "#fdca26"
            ],
            [
             1,
             "#f0f921"
            ]
           ],
           "sequentialminus": [
            [
             0,
             "#0d0887"
            ],
            [
             0.1111111111111111,
             "#46039f"
            ],
            [
             0.2222222222222222,
             "#7201a8"
            ],
            [
             0.3333333333333333,
             "#9c179e"
            ],
            [
             0.4444444444444444,
             "#bd3786"
            ],
            [
             0.5555555555555556,
             "#d8576b"
            ],
            [
             0.6666666666666666,
             "#ed7953"
            ],
            [
             0.7777777777777778,
             "#fb9f3a"
            ],
            [
             0.8888888888888888,
             "#fdca26"
            ],
            [
             1,
             "#f0f921"
            ]
           ]
          },
          "colorway": [
           "#636efa",
           "#EF553B",
           "#00cc96",
           "#ab63fa",
           "#FFA15A",
           "#19d3f3",
           "#FF6692",
           "#B6E880",
           "#FF97FF",
           "#FECB52"
          ],
          "font": {
           "color": "#2a3f5f"
          },
          "geo": {
           "bgcolor": "white",
           "lakecolor": "white",
           "landcolor": "#E5ECF6",
           "showlakes": true,
           "showland": true,
           "subunitcolor": "white"
          },
          "hoverlabel": {
           "align": "left"
          },
          "hovermode": "closest",
          "mapbox": {
           "style": "light"
          },
          "paper_bgcolor": "white",
          "plot_bgcolor": "#E5ECF6",
          "polar": {
           "angularaxis": {
            "gridcolor": "white",
            "linecolor": "white",
            "ticks": ""
           },
           "bgcolor": "#E5ECF6",
           "radialaxis": {
            "gridcolor": "white",
            "linecolor": "white",
            "ticks": ""
           }
          },
          "scene": {
           "xaxis": {
            "backgroundcolor": "#E5ECF6",
            "gridcolor": "white",
            "gridwidth": 2,
            "linecolor": "white",
            "showbackground": true,
            "ticks": "",
            "zerolinecolor": "white"
           },
           "yaxis": {
            "backgroundcolor": "#E5ECF6",
            "gridcolor": "white",
            "gridwidth": 2,
            "linecolor": "white",
            "showbackground": true,
            "ticks": "",
            "zerolinecolor": "white"
           },
           "zaxis": {
            "backgroundcolor": "#E5ECF6",
            "gridcolor": "white",
            "gridwidth": 2,
            "linecolor": "white",
            "showbackground": true,
            "ticks": "",
            "zerolinecolor": "white"
           }
          },
          "shapedefaults": {
           "line": {
            "color": "#2a3f5f"
           }
          },
          "ternary": {
           "aaxis": {
            "gridcolor": "white",
            "linecolor": "white",
            "ticks": ""
           },
           "baxis": {
            "gridcolor": "white",
            "linecolor": "white",
            "ticks": ""
           },
           "bgcolor": "#E5ECF6",
           "caxis": {
            "gridcolor": "white",
            "linecolor": "white",
            "ticks": ""
           }
          },
          "title": {
           "x": 0.05
          },
          "xaxis": {
           "automargin": true,
           "gridcolor": "white",
           "linecolor": "white",
           "ticks": "",
           "title": {
            "standoff": 15
           },
           "zerolinecolor": "white",
           "zerolinewidth": 2
          },
          "yaxis": {
           "automargin": true,
           "gridcolor": "white",
           "linecolor": "white",
           "ticks": "",
           "title": {
            "standoff": 15
           },
           "zerolinecolor": "white",
           "zerolinewidth": 2
          }
         }
        },
        "title": {
         "text": "2D Chroma Vector Store Visualization"
        },
        "width": 1024
       }
      },
      "image/png": "[encoded data removed]"
     },
     "metadata": {},
     "output_type": "display_data"
    }
   ],
   "source": [
    "from local_db.LocalChromaDbRepository import LocalChromaDbRepository, COLLECTION_NAME\n",
    "repository = LocalChromaDbRepository(database_name=\"local_chroma_db\")\n",
    "visualize_vector_db(repository.get_collection(COLLECTION_NAME))"
   ]
  }
 ],
 "metadata": {
  "kernelspec": {
   "display_name": "Python 3 (ipykernel)",
   "language": "python",
   "name": "python3"
  },
  "language_info": {
   "codemirror_mode": {
    "name": "ipython",
    "version": 3
   },
   "file_extension": ".py",
   "mimetype": "text/x-python",
   "name": "python",
   "nbconvert_exporter": "python",
   "pygments_lexer": "ipython3",
   "version": "3.12.3"
  }
 },
 "nbformat": 4,
 "nbformat_minor": 5
}
